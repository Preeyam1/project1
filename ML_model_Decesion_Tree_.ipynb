{
  "cells": [
    {
      "cell_type": "markdown",
      "metadata": {
        "id": "view-in-github",
        "colab_type": "text"
      },
      "source": [
        "<a href=\"https://colab.research.google.com/github/Preeyam1/project1/blob/master/ML_model_Decesion_Tree_.ipynb\" target=\"_parent\"><img src=\"https://colab.research.google.com/assets/colab-badge.svg\" alt=\"Open In Colab\"/></a>"
      ]
    },
    {
      "cell_type": "code",
      "execution_count": null,
      "id": "ba5192a0-c2d3-4108-bdf5-1989a394f2ad",
      "metadata": {
        "id": "ba5192a0-c2d3-4108-bdf5-1989a394f2ad"
      },
      "outputs": [],
      "source": [
        "import pandas as pd\n",
        "import numpy as np\n",
        "import matplotlib.pyplot as plt\n",
        "import seaborn as sns\n",
        "import sklearn as sk\n",
        "from sklearn import *\n",
        "from sklearn import preprocessing\n"
      ]
    },
    {
      "cell_type": "code",
      "execution_count": null,
      "id": "74387879-1e6b-4ef8-9430-db5d59818c70",
      "metadata": {
        "id": "74387879-1e6b-4ef8-9430-db5d59818c70"
      },
      "outputs": [],
      "source": [
        "data = pd.read_csv('bank.csv')\n"
      ]
    },
    {
      "cell_type": "code",
      "execution_count": null,
      "id": "4ce9d2c3-3042-4e06-b6e9-d77a83557bcb",
      "metadata": {
        "id": "4ce9d2c3-3042-4e06-b6e9-d77a83557bcb",
        "outputId": "f4af4f8d-49ff-48bd-f20a-45d052a2668e"
      },
      "outputs": [
        {
          "name": "stdout",
          "output_type": "stream",
          "text": [
            "<class 'pandas.core.frame.DataFrame'>\n",
            "RangeIndex: 11162 entries, 0 to 11161\n",
            "Data columns (total 17 columns):\n",
            " #   Column     Non-Null Count  Dtype \n",
            "---  ------     --------------  ----- \n",
            " 0   age        11162 non-null  int64 \n",
            " 1   job        11162 non-null  object\n",
            " 2   marital    11162 non-null  object\n",
            " 3   education  11162 non-null  object\n",
            " 4   default    11162 non-null  object\n",
            " 5   balance    11162 non-null  int64 \n",
            " 6   housing    11162 non-null  object\n",
            " 7   loan       11162 non-null  object\n",
            " 8   contact    11162 non-null  object\n",
            " 9   day        11162 non-null  int64 \n",
            " 10  month      11162 non-null  object\n",
            " 11  duration   11162 non-null  int64 \n",
            " 12  campaign   11162 non-null  int64 \n",
            " 13  pdays      11162 non-null  int64 \n",
            " 14  previous   11162 non-null  int64 \n",
            " 15  poutcome   11162 non-null  object\n",
            " 16  deposit    11162 non-null  object\n",
            "dtypes: int64(7), object(10)\n",
            "memory usage: 1.4+ MB\n"
          ]
        }
      ],
      "source": [
        "data.info()"
      ]
    },
    {
      "cell_type": "code",
      "execution_count": null,
      "id": "445c0731-625c-45de-b3fb-9a58fddfd4dc",
      "metadata": {
        "id": "445c0731-625c-45de-b3fb-9a58fddfd4dc",
        "outputId": "a7842889-e086-4b97-96c2-6c82e89f141c"
      },
      "outputs": [
        {
          "data": {
            "text/html": [
              "<div>\n",
              "<style scoped>\n",
              "    .dataframe tbody tr th:only-of-type {\n",
              "        vertical-align: middle;\n",
              "    }\n",
              "\n",
              "    .dataframe tbody tr th {\n",
              "        vertical-align: top;\n",
              "    }\n",
              "\n",
              "    .dataframe thead th {\n",
              "        text-align: right;\n",
              "    }\n",
              "</style>\n",
              "<table border=\"1\" class=\"dataframe\">\n",
              "  <thead>\n",
              "    <tr style=\"text-align: right;\">\n",
              "      <th></th>\n",
              "      <th>age</th>\n",
              "      <th>balance</th>\n",
              "      <th>day</th>\n",
              "      <th>duration</th>\n",
              "      <th>campaign</th>\n",
              "      <th>pdays</th>\n",
              "      <th>previous</th>\n",
              "    </tr>\n",
              "  </thead>\n",
              "  <tbody>\n",
              "    <tr>\n",
              "      <th>count</th>\n",
              "      <td>11162.000000</td>\n",
              "      <td>11162.000000</td>\n",
              "      <td>11162.000000</td>\n",
              "      <td>11162.000000</td>\n",
              "      <td>11162.000000</td>\n",
              "      <td>11162.000000</td>\n",
              "      <td>11162.000000</td>\n",
              "    </tr>\n",
              "    <tr>\n",
              "      <th>mean</th>\n",
              "      <td>41.231948</td>\n",
              "      <td>1528.538524</td>\n",
              "      <td>15.658036</td>\n",
              "      <td>371.993818</td>\n",
              "      <td>2.508421</td>\n",
              "      <td>51.330407</td>\n",
              "      <td>0.832557</td>\n",
              "    </tr>\n",
              "    <tr>\n",
              "      <th>std</th>\n",
              "      <td>11.913369</td>\n",
              "      <td>3225.413326</td>\n",
              "      <td>8.420740</td>\n",
              "      <td>347.128386</td>\n",
              "      <td>2.722077</td>\n",
              "      <td>108.758282</td>\n",
              "      <td>2.292007</td>\n",
              "    </tr>\n",
              "    <tr>\n",
              "      <th>min</th>\n",
              "      <td>18.000000</td>\n",
              "      <td>-6847.000000</td>\n",
              "      <td>1.000000</td>\n",
              "      <td>2.000000</td>\n",
              "      <td>1.000000</td>\n",
              "      <td>-1.000000</td>\n",
              "      <td>0.000000</td>\n",
              "    </tr>\n",
              "    <tr>\n",
              "      <th>25%</th>\n",
              "      <td>32.000000</td>\n",
              "      <td>122.000000</td>\n",
              "      <td>8.000000</td>\n",
              "      <td>138.000000</td>\n",
              "      <td>1.000000</td>\n",
              "      <td>-1.000000</td>\n",
              "      <td>0.000000</td>\n",
              "    </tr>\n",
              "    <tr>\n",
              "      <th>50%</th>\n",
              "      <td>39.000000</td>\n",
              "      <td>550.000000</td>\n",
              "      <td>15.000000</td>\n",
              "      <td>255.000000</td>\n",
              "      <td>2.000000</td>\n",
              "      <td>-1.000000</td>\n",
              "      <td>0.000000</td>\n",
              "    </tr>\n",
              "    <tr>\n",
              "      <th>75%</th>\n",
              "      <td>49.000000</td>\n",
              "      <td>1708.000000</td>\n",
              "      <td>22.000000</td>\n",
              "      <td>496.000000</td>\n",
              "      <td>3.000000</td>\n",
              "      <td>20.750000</td>\n",
              "      <td>1.000000</td>\n",
              "    </tr>\n",
              "    <tr>\n",
              "      <th>max</th>\n",
              "      <td>95.000000</td>\n",
              "      <td>81204.000000</td>\n",
              "      <td>31.000000</td>\n",
              "      <td>3881.000000</td>\n",
              "      <td>63.000000</td>\n",
              "      <td>854.000000</td>\n",
              "      <td>58.000000</td>\n",
              "    </tr>\n",
              "  </tbody>\n",
              "</table>\n",
              "</div>"
            ],
            "text/plain": [
              "                age       balance           day      duration      campaign  \\\n",
              "count  11162.000000  11162.000000  11162.000000  11162.000000  11162.000000   \n",
              "mean      41.231948   1528.538524     15.658036    371.993818      2.508421   \n",
              "std       11.913369   3225.413326      8.420740    347.128386      2.722077   \n",
              "min       18.000000  -6847.000000      1.000000      2.000000      1.000000   \n",
              "25%       32.000000    122.000000      8.000000    138.000000      1.000000   \n",
              "50%       39.000000    550.000000     15.000000    255.000000      2.000000   \n",
              "75%       49.000000   1708.000000     22.000000    496.000000      3.000000   \n",
              "max       95.000000  81204.000000     31.000000   3881.000000     63.000000   \n",
              "\n",
              "              pdays      previous  \n",
              "count  11162.000000  11162.000000  \n",
              "mean      51.330407      0.832557  \n",
              "std      108.758282      2.292007  \n",
              "min       -1.000000      0.000000  \n",
              "25%       -1.000000      0.000000  \n",
              "50%       -1.000000      0.000000  \n",
              "75%       20.750000      1.000000  \n",
              "max      854.000000     58.000000  "
            ]
          },
          "execution_count": 7,
          "metadata": {},
          "output_type": "execute_result"
        }
      ],
      "source": [
        "data.describe()"
      ]
    },
    {
      "cell_type": "code",
      "execution_count": null,
      "id": "e937d031-be56-4838-b6e6-31cbe4d98420",
      "metadata": {
        "id": "e937d031-be56-4838-b6e6-31cbe4d98420",
        "outputId": "dfe165c5-53b8-4a48-dc86-6064946a0845"
      },
      "outputs": [
        {
          "data": {
            "text/html": [
              "<div>\n",
              "<style scoped>\n",
              "    .dataframe tbody tr th:only-of-type {\n",
              "        vertical-align: middle;\n",
              "    }\n",
              "\n",
              "    .dataframe tbody tr th {\n",
              "        vertical-align: top;\n",
              "    }\n",
              "\n",
              "    .dataframe thead th {\n",
              "        text-align: right;\n",
              "    }\n",
              "</style>\n",
              "<table border=\"1\" class=\"dataframe\">\n",
              "  <thead>\n",
              "    <tr style=\"text-align: right;\">\n",
              "      <th></th>\n",
              "      <th>age</th>\n",
              "      <th>balance</th>\n",
              "      <th>day</th>\n",
              "      <th>duration</th>\n",
              "      <th>campaign</th>\n",
              "      <th>pdays</th>\n",
              "      <th>previous</th>\n",
              "    </tr>\n",
              "  </thead>\n",
              "  <tbody>\n",
              "    <tr>\n",
              "      <th>age</th>\n",
              "      <td>1.000000</td>\n",
              "      <td>0.112300</td>\n",
              "      <td>-0.000762</td>\n",
              "      <td>0.000189</td>\n",
              "      <td>-0.005278</td>\n",
              "      <td>0.002774</td>\n",
              "      <td>0.020169</td>\n",
              "    </tr>\n",
              "    <tr>\n",
              "      <th>balance</th>\n",
              "      <td>0.112300</td>\n",
              "      <td>1.000000</td>\n",
              "      <td>0.010467</td>\n",
              "      <td>0.022436</td>\n",
              "      <td>-0.013894</td>\n",
              "      <td>0.017411</td>\n",
              "      <td>0.030805</td>\n",
              "    </tr>\n",
              "    <tr>\n",
              "      <th>day</th>\n",
              "      <td>-0.000762</td>\n",
              "      <td>0.010467</td>\n",
              "      <td>1.000000</td>\n",
              "      <td>-0.018511</td>\n",
              "      <td>0.137007</td>\n",
              "      <td>-0.077232</td>\n",
              "      <td>-0.058981</td>\n",
              "    </tr>\n",
              "    <tr>\n",
              "      <th>duration</th>\n",
              "      <td>0.000189</td>\n",
              "      <td>0.022436</td>\n",
              "      <td>-0.018511</td>\n",
              "      <td>1.000000</td>\n",
              "      <td>-0.041557</td>\n",
              "      <td>-0.027392</td>\n",
              "      <td>-0.026716</td>\n",
              "    </tr>\n",
              "    <tr>\n",
              "      <th>campaign</th>\n",
              "      <td>-0.005278</td>\n",
              "      <td>-0.013894</td>\n",
              "      <td>0.137007</td>\n",
              "      <td>-0.041557</td>\n",
              "      <td>1.000000</td>\n",
              "      <td>-0.102726</td>\n",
              "      <td>-0.049699</td>\n",
              "    </tr>\n",
              "    <tr>\n",
              "      <th>pdays</th>\n",
              "      <td>0.002774</td>\n",
              "      <td>0.017411</td>\n",
              "      <td>-0.077232</td>\n",
              "      <td>-0.027392</td>\n",
              "      <td>-0.102726</td>\n",
              "      <td>1.000000</td>\n",
              "      <td>0.507272</td>\n",
              "    </tr>\n",
              "    <tr>\n",
              "      <th>previous</th>\n",
              "      <td>0.020169</td>\n",
              "      <td>0.030805</td>\n",
              "      <td>-0.058981</td>\n",
              "      <td>-0.026716</td>\n",
              "      <td>-0.049699</td>\n",
              "      <td>0.507272</td>\n",
              "      <td>1.000000</td>\n",
              "    </tr>\n",
              "  </tbody>\n",
              "</table>\n",
              "</div>"
            ],
            "text/plain": [
              "               age   balance       day  duration  campaign     pdays  previous\n",
              "age       1.000000  0.112300 -0.000762  0.000189 -0.005278  0.002774  0.020169\n",
              "balance   0.112300  1.000000  0.010467  0.022436 -0.013894  0.017411  0.030805\n",
              "day      -0.000762  0.010467  1.000000 -0.018511  0.137007 -0.077232 -0.058981\n",
              "duration  0.000189  0.022436 -0.018511  1.000000 -0.041557 -0.027392 -0.026716\n",
              "campaign -0.005278 -0.013894  0.137007 -0.041557  1.000000 -0.102726 -0.049699\n",
              "pdays     0.002774  0.017411 -0.077232 -0.027392 -0.102726  1.000000  0.507272\n",
              "previous  0.020169  0.030805 -0.058981 -0.026716 -0.049699  0.507272  1.000000"
            ]
          },
          "execution_count": 8,
          "metadata": {},
          "output_type": "execute_result"
        }
      ],
      "source": [
        "data.corr()"
      ]
    },
    {
      "cell_type": "code",
      "execution_count": null,
      "id": "d52f49f9-1d67-40da-85c9-417d7e4603f1",
      "metadata": {
        "id": "d52f49f9-1d67-40da-85c9-417d7e4603f1"
      },
      "outputs": [],
      "source": [
        "data.drop(columns=['contact'],inplace=True)"
      ]
    },
    {
      "cell_type": "code",
      "execution_count": null,
      "id": "0bafc76b-077b-4f9b-b4d1-3889cbd63315",
      "metadata": {
        "id": "0bafc76b-077b-4f9b-b4d1-3889cbd63315"
      },
      "outputs": [],
      "source": [
        "data.drop(columns='education',inplace=True)"
      ]
    },
    {
      "cell_type": "code",
      "execution_count": null,
      "id": "c49fef64-7175-4f9a-a37e-8f9f3201d330",
      "metadata": {
        "id": "c49fef64-7175-4f9a-a37e-8f9f3201d330",
        "outputId": "94a0734c-a067-401f-9096-24dd7534e014"
      },
      "outputs": [
        {
          "name": "stderr",
          "output_type": "stream",
          "text": [
            "F:\\ANACONDA\\lib\\site-packages\\seaborn\\distributions.py:2619: FutureWarning: `distplot` is a deprecated function and will be removed in a future version. Please adapt your code to use either `displot` (a figure-level function with similar flexibility) or `histplot` (an axes-level function for histograms).\n",
            "  warnings.warn(msg, FutureWarning)\n"
          ]
        },
        {
          "data": {
            "text/plain": [
              "<AxesSubplot:xlabel='balance', ylabel='Density'>"
            ]
          },
          "execution_count": 11,
          "metadata": {},
          "output_type": "execute_result"
        },
        {
          "data": {
            "image/png": "[encoded data removed]",
            "text/plain": [
              "<Figure size 640x480 with 1 Axes>"
            ]
          },
          "metadata": {},
          "output_type": "display_data"
        }
      ],
      "source": [
        "sns.distplot(data['balance'])"
      ]
    },
    {
      "cell_type": "code",
      "execution_count": null,
      "id": "3835bbc1-1167-4659-ac1a-6ef3854d3990",
      "metadata": {
        "id": "3835bbc1-1167-4659-ac1a-6ef3854d3990",
        "outputId": "f7f83f91-92d4-4ee7-ac74-98036214b380"
      },
      "outputs": [
        {
          "data": {
            "text/plain": [
              "<AxesSubplot:xlabel='duration', ylabel='Density'>"
            ]
          },
          "execution_count": 13,
          "metadata": {},
          "output_type": "execute_result"
        },
        {
          "data": {
            "image/png": "[encoded data removed]",
            "text/plain": [
              "<Figure size 640x480 with 1 Axes>"
            ]
          },
          "metadata": {},
          "output_type": "display_data"
        }
      ],
      "source": [
        "sns.kdeplot(x='duration',data=data)"
      ]
    },
    {
      "cell_type": "code",
      "execution_count": null,
      "id": "17cd0d24-94dc-449e-a43f-1d30bbd681cd",
      "metadata": {
        "id": "17cd0d24-94dc-449e-a43f-1d30bbd681cd",
        "outputId": "f467c5ca-c4e1-4742-b8c2-5f8b3bb3dfe3"
      },
      "outputs": [
        {
          "data": {
            "text/plain": [
              "<AxesSubplot:xlabel='marital', ylabel='count'>"
            ]
          },
          "execution_count": 14,
          "metadata": {},
          "output_type": "execute_result"
        },
        {
          "data": {
            "image/png": "[encoded data removed]",
            "text/plain": [
              "<Figure size 640x480 with 1 Axes>"
            ]
          },
          "metadata": {},
          "output_type": "display_data"
        }
      ],
      "source": [
        "sns.countplot(x='marital',hue='deposit',data=data)"
      ]
    },
    {
      "cell_type": "code",
      "execution_count": null,
      "id": "c6644a06-0974-4c75-b8b7-d3e6cec3785e",
      "metadata": {
        "id": "c6644a06-0974-4c75-b8b7-d3e6cec3785e",
        "outputId": "2ee9f223-28f8-41e0-a605-4f12e23000c6"
      },
      "outputs": [
        {
          "data": {
            "text/plain": [
              "<Figure size 800x600 with 0 Axes>"
            ]
          },
          "execution_count": 15,
          "metadata": {},
          "output_type": "execute_result"
        },
        {
          "data": {
            "image/png": "[encoded data removed]",
            "text/plain": [
              "<Figure size 640x480 with 1 Axes>"
            ]
          },
          "metadata": {},
          "output_type": "display_data"
        },
        {
          "data": {
            "text/plain": [
              "<Figure size 800x600 with 0 Axes>"
            ]
          },
          "metadata": {},
          "output_type": "display_data"
        }
      ],
      "source": [
        "sns.countplot(x='month',hue='deposit',data=data)\n",
        "plt.figure(figsize=(8,6))"
      ]
    },
    {
      "cell_type": "code",
      "execution_count": null,
      "id": "c0124054-13a1-4d16-b2d2-8f5d058b0883",
      "metadata": {
        "id": "c0124054-13a1-4d16-b2d2-8f5d058b0883",
        "outputId": "0af7a665-c3e2-4638-9b40-9a272442ee70"
      },
      "outputs": [
        {
          "data": {
            "text/plain": [
              "<AxesSubplot:xlabel='job', ylabel='count'>"
            ]
          },
          "execution_count": 16,
          "metadata": {},
          "output_type": "execute_result"
        },
        {
          "data": {
            "image/png": "[encoded data removed]",
            "text/plain": [
              "<Figure size 2000x1000 with 1 Axes>"
            ]
          },
          "metadata": {},
          "output_type": "display_data"
        }
      ],
      "source": [
        "plt.figure(figsize=(20,10))\n",
        "sns.countplot(x='job',hue='deposit',data=data)"
      ]
    },
    {
      "cell_type": "code",
      "execution_count": null,
      "id": "692b8c0f-afbf-4bfd-80d1-afc82b55477f",
      "metadata": {
        "id": "692b8c0f-afbf-4bfd-80d1-afc82b55477f"
      },
      "outputs": [],
      "source": [
        "data"
      ]
    },
    {
      "cell_type": "code",
      "execution_count": null,
      "id": "289a67d8-e1da-4d85-800b-42eb6702b357",
      "metadata": {
        "tags": [],
        "id": "289a67d8-e1da-4d85-800b-42eb6702b357"
      },
      "outputs": [],
      "source": [
        "data.drop((data[data['duration']>=2000]).index, inplace=True)\n",
        "data.drop((data[data['balance']>=20000]).index, inplace=True)\n"
      ]
    },
    {
      "cell_type": "code",
      "execution_count": null,
      "id": "9d71d1db-3ca3-4070-81e8-f325c82cd8d6",
      "metadata": {
        "id": "9d71d1db-3ca3-4070-81e8-f325c82cd8d6"
      },
      "outputs": [],
      "source": []
    },
    {
      "cell_type": "code",
      "execution_count": null,
      "id": "300ab048-b01b-4ed1-87c2-eb3faa5c9732",
      "metadata": {
        "id": "300ab048-b01b-4ed1-87c2-eb3faa5c9732",
        "outputId": "4b1de683-6e18-4fc2-dc9f-2ebd75815162"
      },
      "outputs": [
        {
          "data": {
            "text/html": [
              "<div>\n",
              "<style scoped>\n",
              "    .dataframe tbody tr th:only-of-type {\n",
              "        vertical-align: middle;\n",
              "    }\n",
              "\n",
              "    .dataframe tbody tr th {\n",
              "        vertical-align: top;\n",
              "    }\n",
              "\n",
              "    .dataframe thead th {\n",
              "        text-align: right;\n",
              "    }\n",
              "</style>\n",
              "<table border=\"1\" class=\"dataframe\">\n",
              "  <thead>\n",
              "    <tr style=\"text-align: right;\">\n",
              "      <th></th>\n",
              "      <th>age</th>\n",
              "      <th>job</th>\n",
              "      <th>marital</th>\n",
              "      <th>default</th>\n",
              "      <th>balance</th>\n",
              "      <th>housing</th>\n",
              "      <th>loan</th>\n",
              "      <th>day</th>\n",
              "      <th>month</th>\n",
              "      <th>duration</th>\n",
              "      <th>campaign</th>\n",
              "      <th>pdays</th>\n",
              "      <th>previous</th>\n",
              "      <th>poutcome</th>\n",
              "      <th>deposit</th>\n",
              "    </tr>\n",
              "  </thead>\n",
              "  <tbody>\n",
              "    <tr>\n",
              "      <th>0</th>\n",
              "      <td>59</td>\n",
              "      <td>0</td>\n",
              "      <td>1</td>\n",
              "      <td>0</td>\n",
              "      <td>2343</td>\n",
              "      <td>1</td>\n",
              "      <td>0</td>\n",
              "      <td>4</td>\n",
              "      <td>8</td>\n",
              "      <td>1042</td>\n",
              "      <td>1</td>\n",
              "      <td>-1</td>\n",
              "      <td>0</td>\n",
              "      <td>3</td>\n",
              "      <td>1</td>\n",
              "    </tr>\n",
              "    <tr>\n",
              "      <th>1</th>\n",
              "      <td>56</td>\n",
              "      <td>0</td>\n",
              "      <td>1</td>\n",
              "      <td>0</td>\n",
              "      <td>45</td>\n",
              "      <td>0</td>\n",
              "      <td>0</td>\n",
              "      <td>4</td>\n",
              "      <td>8</td>\n",
              "      <td>1467</td>\n",
              "      <td>1</td>\n",
              "      <td>-1</td>\n",
              "      <td>0</td>\n",
              "      <td>3</td>\n",
              "      <td>1</td>\n",
              "    </tr>\n",
              "    <tr>\n",
              "      <th>2</th>\n",
              "      <td>41</td>\n",
              "      <td>9</td>\n",
              "      <td>1</td>\n",
              "      <td>0</td>\n",
              "      <td>1270</td>\n",
              "      <td>1</td>\n",
              "      <td>0</td>\n",
              "      <td>4</td>\n",
              "      <td>8</td>\n",
              "      <td>1389</td>\n",
              "      <td>1</td>\n",
              "      <td>-1</td>\n",
              "      <td>0</td>\n",
              "      <td>3</td>\n",
              "      <td>1</td>\n",
              "    </tr>\n",
              "    <tr>\n",
              "      <th>3</th>\n",
              "      <td>55</td>\n",
              "      <td>7</td>\n",
              "      <td>1</td>\n",
              "      <td>0</td>\n",
              "      <td>2476</td>\n",
              "      <td>1</td>\n",
              "      <td>0</td>\n",
              "      <td>4</td>\n",
              "      <td>8</td>\n",
              "      <td>579</td>\n",
              "      <td>1</td>\n",
              "      <td>-1</td>\n",
              "      <td>0</td>\n",
              "      <td>3</td>\n",
              "      <td>1</td>\n",
              "    </tr>\n",
              "    <tr>\n",
              "      <th>4</th>\n",
              "      <td>54</td>\n",
              "      <td>0</td>\n",
              "      <td>1</td>\n",
              "      <td>0</td>\n",
              "      <td>184</td>\n",
              "      <td>0</td>\n",
              "      <td>0</td>\n",
              "      <td>4</td>\n",
              "      <td>8</td>\n",
              "      <td>673</td>\n",
              "      <td>2</td>\n",
              "      <td>-1</td>\n",
              "      <td>0</td>\n",
              "      <td>3</td>\n",
              "      <td>1</td>\n",
              "    </tr>\n",
              "    <tr>\n",
              "      <th>...</th>\n",
              "      <td>...</td>\n",
              "      <td>...</td>\n",
              "      <td>...</td>\n",
              "      <td>...</td>\n",
              "      <td>...</td>\n",
              "      <td>...</td>\n",
              "      <td>...</td>\n",
              "      <td>...</td>\n",
              "      <td>...</td>\n",
              "      <td>...</td>\n",
              "      <td>...</td>\n",
              "      <td>...</td>\n",
              "      <td>...</td>\n",
              "      <td>...</td>\n",
              "      <td>...</td>\n",
              "    </tr>\n",
              "    <tr>\n",
              "      <th>11157</th>\n",
              "      <td>33</td>\n",
              "      <td>1</td>\n",
              "      <td>2</td>\n",
              "      <td>0</td>\n",
              "      <td>1</td>\n",
              "      <td>1</td>\n",
              "      <td>0</td>\n",
              "      <td>19</td>\n",
              "      <td>0</td>\n",
              "      <td>257</td>\n",
              "      <td>1</td>\n",
              "      <td>-1</td>\n",
              "      <td>0</td>\n",
              "      <td>3</td>\n",
              "      <td>0</td>\n",
              "    </tr>\n",
              "    <tr>\n",
              "      <th>11158</th>\n",
              "      <td>39</td>\n",
              "      <td>7</td>\n",
              "      <td>1</td>\n",
              "      <td>0</td>\n",
              "      <td>733</td>\n",
              "      <td>0</td>\n",
              "      <td>0</td>\n",
              "      <td>15</td>\n",
              "      <td>6</td>\n",
              "      <td>83</td>\n",
              "      <td>4</td>\n",
              "      <td>-1</td>\n",
              "      <td>0</td>\n",
              "      <td>3</td>\n",
              "      <td>0</td>\n",
              "    </tr>\n",
              "    <tr>\n",
              "      <th>11159</th>\n",
              "      <td>32</td>\n",
              "      <td>9</td>\n",
              "      <td>2</td>\n",
              "      <td>0</td>\n",
              "      <td>29</td>\n",
              "      <td>0</td>\n",
              "      <td>0</td>\n",
              "      <td>18</td>\n",
              "      <td>1</td>\n",
              "      <td>156</td>\n",
              "      <td>2</td>\n",
              "      <td>-1</td>\n",
              "      <td>0</td>\n",
              "      <td>3</td>\n",
              "      <td>0</td>\n",
              "    </tr>\n",
              "    <tr>\n",
              "      <th>11160</th>\n",
              "      <td>43</td>\n",
              "      <td>9</td>\n",
              "      <td>1</td>\n",
              "      <td>0</td>\n",
              "      <td>0</td>\n",
              "      <td>0</td>\n",
              "      <td>1</td>\n",
              "      <td>7</td>\n",
              "      <td>8</td>\n",
              "      <td>9</td>\n",
              "      <td>2</td>\n",
              "      <td>172</td>\n",
              "      <td>5</td>\n",
              "      <td>0</td>\n",
              "      <td>0</td>\n",
              "    </tr>\n",
              "    <tr>\n",
              "      <th>11161</th>\n",
              "      <td>34</td>\n",
              "      <td>9</td>\n",
              "      <td>1</td>\n",
              "      <td>0</td>\n",
              "      <td>0</td>\n",
              "      <td>0</td>\n",
              "      <td>0</td>\n",
              "      <td>8</td>\n",
              "      <td>5</td>\n",
              "      <td>628</td>\n",
              "      <td>1</td>\n",
              "      <td>-1</td>\n",
              "      <td>0</td>\n",
              "      <td>3</td>\n",
              "      <td>0</td>\n",
              "    </tr>\n",
              "  </tbody>\n",
              "</table>\n",
              "<p>11072 rows × 15 columns</p>\n",
              "</div>"
            ],
            "text/plain": [
              "       age  job  marital  default  balance  housing  loan  day  month  \\\n",
              "0       59    0        1        0     2343        1     0    4      8   \n",
              "1       56    0        1        0       45        0     0    4      8   \n",
              "2       41    9        1        0     1270        1     0    4      8   \n",
              "3       55    7        1        0     2476        1     0    4      8   \n",
              "4       54    0        1        0      184        0     0    4      8   \n",
              "...    ...  ...      ...      ...      ...      ...   ...  ...    ...   \n",
              "11157   33    1        2        0        1        1     0   19      0   \n",
              "11158   39    7        1        0      733        0     0   15      6   \n",
              "11159   32    9        2        0       29        0     0   18      1   \n",
              "11160   43    9        1        0        0        0     1    7      8   \n",
              "11161   34    9        1        0        0        0     0    8      5   \n",
              "\n",
              "       duration  campaign  pdays  previous  poutcome  deposit  \n",
              "0          1042         1     -1         0         3        1  \n",
              "1          1467         1     -1         0         3        1  \n",
              "2          1389         1     -1         0         3        1  \n",
              "3           579         1     -1         0         3        1  \n",
              "4           673         2     -1         0         3        1  \n",
              "...         ...       ...    ...       ...       ...      ...  \n",
              "11157       257         1     -1         0         3        0  \n",
              "11158        83         4     -1         0         3        0  \n",
              "11159       156         2     -1         0         3        0  \n",
              "11160         9         2    172         5         0        0  \n",
              "11161       628         1     -1         0         3        0  \n",
              "\n",
              "[11072 rows x 15 columns]"
            ]
          },
          "execution_count": 18,
          "metadata": {},
          "output_type": "execute_result"
        }
      ],
      "source": [
        "cat=['job', 'marital', 'default', 'housing', 'loan', 'month', 'day', 'poutcome','deposit']\n",
        "data1=sk.preprocessing.LabelEncoder()\n",
        "for i in cat:\n",
        "    data[i]=data1.fit_transform(data[i])\n",
        "data"
      ]
    },
    {
      "cell_type": "code",
      "execution_count": null,
      "id": "609b23d0-91e4-430f-9aae-3eaf1d7a7ae6",
      "metadata": {
        "id": "609b23d0-91e4-430f-9aae-3eaf1d7a7ae6"
      },
      "outputs": [],
      "source": [
        "x=data.drop(['deposit'],axis=1).values\n",
        "y=data['deposit'].values\n"
      ]
    },
    {
      "cell_type": "code",
      "execution_count": null,
      "id": "055ddcc7",
      "metadata": {
        "id": "055ddcc7"
      },
      "outputs": [],
      "source": [
        "x_train,x_test,y_train,y_test=sk.model_selection.train_test_split(x,y,test_size=0.20)"
      ]
    },
    {
      "cell_type": "code",
      "execution_count": null,
      "id": "e01a9c35",
      "metadata": {
        "id": "e01a9c35",
        "outputId": "3e4a1676-d810-4c7a-bdf2-d70cbdc4bba6"
      },
      "outputs": [
        {
          "name": "stdout",
          "output_type": "stream",
          "text": [
            "0.8429490798238681\n",
            "0.8162528216704289\n"
          ]
        }
      ],
      "source": [
        "train=sk.tree.DecisionTreeClassifier(criterion='gini',min_samples_split=100,min_samples_leaf=10).fit(x_train,y_train)\n",
        "train_score=train.score(x_train,y_train)\n",
        "test_score=train.score(x_test,y_test)\n",
        "print(train_score)\n",
        "print(test_score)\n"
      ]
    },
    {
      "cell_type": "code",
      "execution_count": null,
      "id": "db36a340-88d2-4c1a-a15c-cc7884315f1c",
      "metadata": {
        "id": "db36a340-88d2-4c1a-a15c-cc7884315f1c",
        "outputId": "ebd87e43-6ab3-4923-b455-b5e3a183b6c5"
      },
      "outputs": [
        {
          "name": "stdout",
          "output_type": "stream",
          "text": [
            "0.8335779609348538\n",
            "0.8203160270880361\n"
          ]
        }
      ],
      "source": [
        "train=sk.tree.DecisionTreeClassifier(criterion='gini',max_depth=10,min_samples_split=125,min_samples_leaf=10).fit(x_train,y_train)\n",
        "train_score=train.score(x_train,y_train)\n",
        "test_score=train.score(x_test,y_test)\n",
        "print(train_score)\n",
        "print(test_score)\n"
      ]
    },
    {
      "cell_type": "code",
      "execution_count": null,
      "id": "c2ee9284-2cd4-471c-ab87-e1a0055c87db",
      "metadata": {
        "id": "c2ee9284-2cd4-471c-ab87-e1a0055c87db",
        "outputId": "d894de8e-2351-4e39-dcd9-3d7bf19981e1"
      },
      "outputs": [
        {
          "name": "stdout",
          "output_type": "stream",
          "text": [
            "0.8348199164502653\n",
            "0.8167042889390519\n"
          ]
        }
      ],
      "source": [
        "train=sk.tree.DecisionTreeClassifier(criterion='gini',max_depth=11,min_samples_split=139,min_samples_leaf=17).fit(x_train,y_train)\n",
        "train_score=train.score(x_train,y_train)\n",
        "test_score=train.score(x_test,y_test)\n",
        "print(train_score)\n",
        "print(test_score)"
      ]
    },
    {
      "cell_type": "code",
      "execution_count": null,
      "id": "f49a48ea-9159-4743-a663-cffa98f683d2",
      "metadata": {
        "id": "f49a48ea-9159-4743-a663-cffa98f683d2",
        "outputId": "e0304e0d-a8f8-4606-b8e3-f9c31d9bd554"
      },
      "outputs": [
        {
          "data": {
            "text/plain": [
              "{'criterion': 'gini',\n",
              " 'max_depth': 11,\n",
              " 'min_samples_leaf': 10,\n",
              " 'min_samples_split': 107}"
            ]
          },
          "execution_count": 75,
          "metadata": {},
          "output_type": "execute_result"
        }
      ],
      "source": [
        "param_dist = {'max_depth': [10,11,12],\n",
        "              'min_samples_split': [100,105,106,107,108],\n",
        "              'min_samples_leaf': [10,11,12],\n",
        "              'criterion': ['gini', 'entropy']}\n",
        "search= sk.model_selection.GridSearchCV(train,cv=10,param_grid=param_dist,n_jobs=1).fit(x_train,y_train)\n",
        "search.best_params_"
      ]
    },
    {
      "cell_type": "code",
      "execution_count": null,
      "id": "618a9020-756a-42c3-a5ea-eed98f940d4e",
      "metadata": {
        "id": "618a9020-756a-42c3-a5ea-eed98f940d4e",
        "outputId": "9d1e37a2-2659-4f40-bf95-757c1f2702d2"
      },
      "outputs": [
        {
          "name": "stdout",
          "output_type": "stream",
          "text": [
            "0.8383199729027887\n",
            "0.818058690744921\n"
          ]
        }
      ],
      "source": [
        "train=sk.tree.DecisionTreeClassifier(criterion='gini',max_depth=11,min_samples_split=107,min_samples_leaf=10).fit(x_train,y_train)\n",
        "train_score=train.score(x_train,y_train)\n",
        "test_score=train.score(x_test,y_test)\n",
        "print(train_score)\n",
        "print(test_score)"
      ]
    },
    {
      "cell_type": "code",
      "execution_count": null,
      "id": "132d1b54",
      "metadata": {
        "id": "132d1b54",
        "outputId": "4f354742-5460-4660-ae12-df9e95021bd8"
      },
      "outputs": [
        {
          "name": "stdout",
          "output_type": "stream",
          "text": [
            "[0 0 1 ... 1 1 1]\n"
          ]
        }
      ],
      "source": [
        "predict=train.predict(x_test)\n",
        "print(predict)"
      ]
    },
    {
      "cell_type": "code",
      "execution_count": null,
      "id": "6d5113a4-23b2-49c1-9b5b-e6c4aa2b6176",
      "metadata": {
        "id": "6d5113a4-23b2-49c1-9b5b-e6c4aa2b6176"
      },
      "outputs": [],
      "source": [
        "auc=sk.metrics.roc_auc_score(predict,y_test)\n",
        "fpr,tpr,_=sk.metrics.roc_curve(predict,y_test)"
      ]
    },
    {
      "cell_type": "code",
      "execution_count": null,
      "id": "f1dca956-5518-41fb-a9de-822dfc0a8b44",
      "metadata": {
        "id": "f1dca956-5518-41fb-a9de-822dfc0a8b44",
        "outputId": "144cdbca-c62f-4ae4-d67f-3416d9383cad"
      },
      "outputs": [
        {
          "data": {
            "image/png": "[encoded data removed]",
            "text/plain": [
              "<Figure size 640x480 with 1 Axes>"
            ]
          },
          "metadata": {},
          "output_type": "display_data"
        }
      ],
      "source": [
        "plt.plot(fpr, tpr,color='green',label='ROC curve (AUC = %0.2f)' % auc)\n",
        "plt.plot([0, 1], [0, 1], 'k--')\n",
        "plt.xlabel('False Positive Rate')\n",
        "plt.ylabel('True Positive Rate')\n",
        "plt.title('Area Under Curve')\n",
        "plt.legend(loc='lower right')\n",
        "plt.show()"
      ]
    },
    {
      "cell_type": "code",
      "execution_count": null,
      "id": "ae7b96bf",
      "metadata": {
        "id": "ae7b96bf",
        "outputId": "0c63b5cf-6166-4e3b-de6f-b85f18d3061c"
      },
      "outputs": [
        {
          "data": {
            "text/plain": [
              "array([[943, 187],\n",
              "       [216, 869]], dtype=int64)"
            ]
          },
          "execution_count": 82,
          "metadata": {},
          "output_type": "execute_result"
        }
      ],
      "source": [
        "con=sk.metrics.confusion_matrix(predict,y_test)\n",
        "con"
      ]
    },
    {
      "cell_type": "code",
      "execution_count": null,
      "id": "736a9386",
      "metadata": {
        "id": "736a9386",
        "outputId": "e72124d8-9a16-4af9-81d8-e38f15202a93"
      },
      "outputs": [
        {
          "data": {
            "image/png": "[encoded data removed]",
            "text/plain": [
              "<Figure size 640x480 with 2 Axes>"
            ]
          },
          "metadata": {},
          "output_type": "display_data"
        }
      ],
      "source": [
        "sns.heatmap(con, annot=True, fmt='d', cmap='Blues')\n",
        "plt.xlabel('Predicted labels')\n",
        "plt.ylabel('True labels')\n",
        "plt.show()"
      ]
    },
    {
      "cell_type": "code",
      "execution_count": null,
      "id": "b639dd5f-9be7-48b1-b7ef-ef10eed6cae2",
      "metadata": {
        "id": "b639dd5f-9be7-48b1-b7ef-ef10eed6cae2"
      },
      "outputs": [],
      "source": []
    }
  ],
  "metadata": {
    "kernelspec": {
      "display_name": "Python 3 (ipykernel)",
      "language": "python",
      "name": "python3"
    },
    "language_info": {
      "codemirror_mode": {
        "name": "ipython",
        "version": 3
      },
      "file_extension": ".py",
      "mimetype": "text/x-python",
      "name": "python",
      "nbconvert_exporter": "python",
      "pygments_lexer": "ipython3",
      "version": "3.9.13"
    },
    "colab": {
      "provenance": [],
      "include_colab_link": true
    }
  },
  "nbformat": 4,
  "nbformat_minor": 5
}