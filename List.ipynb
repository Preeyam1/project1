{
  "cells": [
    {
      "cell_type": "markdown",
      "metadata": {
        "id": "view-in-github",
        "colab_type": "text"
      },
      "source": [
        "<a href=\"https://colab.research.google.com/github/Preeyam1/project1/blob/master/List.ipynb\" target=\"_parent\"><img src=\"https://colab.research.google.com/assets/colab-badge.svg\" alt=\"Open In Colab\"/></a>"
      ]
    },
    {
      "cell_type": "code",
      "execution_count": null,
      "id": "a141153e",
      "metadata": {
        "id": "a141153e",
        "outputId": "d02c5b30-d2f6-4772-9a12-6b4d7dc45721"
      },
      "outputs": [
        {
          "name": "stdout",
          "output_type": "stream",
          "text": [
            "100\n"
          ]
        }
      ],
      "source": [
        "while True:\n",
        "    a=[10,20,30,40]\n",
        "    print(sum(a))\n",
        "    break"
      ]
    },
    {
      "cell_type": "code",
      "execution_count": null,
      "id": "f650d8c0",
      "metadata": {
        "id": "f650d8c0",
        "outputId": "43ac9c86-e5a0-412c-871f-6689d518a19d"
      },
      "outputs": [
        {
          "name": "stdout",
          "output_type": "stream",
          "text": [
            "240000\n"
          ]
        }
      ],
      "source": [
        "a=[10,20,30,40]\n",
        "b=1\n",
        "for i in a:\n",
        "    b*=i\n",
        "print(b)\n",
        "    "
      ]
    },
    {
      "cell_type": "code",
      "execution_count": null,
      "id": "0968ffd9",
      "metadata": {
        "id": "0968ffd9",
        "outputId": "02a3cd07-f858-4ae3-a5cd-1c8689428281"
      },
      "outputs": [
        {
          "name": "stdout",
          "output_type": "stream",
          "text": [
            "2321\n"
          ]
        }
      ],
      "source": [
        "while True:\n",
        "    a=[10,100,2321, 1,200,2]\n",
        "    print(max(a))\n",
        "    break"
      ]
    },
    {
      "cell_type": "code",
      "execution_count": null,
      "id": "43412234",
      "metadata": {
        "id": "43412234",
        "outputId": "8f1fd5d2-8b82-4fe2-dd57-4f59d272ee4d"
      },
      "outputs": [
        {
          "name": "stdout",
          "output_type": "stream",
          "text": [
            "1\n"
          ]
        }
      ],
      "source": [
        "while True:\n",
        "    a=[10,100,2321, 1,200,2]\n",
        "    print(min(a))\n",
        "    break"
      ]
    },
    {
      "cell_type": "code",
      "execution_count": null,
      "id": "b879f4c0",
      "metadata": {
        "id": "b879f4c0",
        "outputId": "75a775e5-1ecf-4eab-cd08-f8064b6e7043"
      },
      "outputs": [
        {
          "name": "stdout",
          "output_type": "stream",
          "text": [
            "aba\n",
            "1991\n"
          ]
        }
      ],
      "source": [
        "a=['ab', 'abc', 'aba', 'xyz', '1991']\n",
        "for i in a:\n",
        "    if i[::1] in i[::-1]:\n",
        "        print(i)"
      ]
    },
    {
      "cell_type": "code",
      "execution_count": null,
      "id": "80358f3d",
      "metadata": {
        "id": "80358f3d",
        "outputId": "2176b64a-85d0-4cd5-9b03-c89e33d92e77"
      },
      "outputs": [
        {
          "name": "stdout",
          "output_type": "stream",
          "text": [
            "[1, 2, 9, 10, 65, 80, 100, 298, 483, 9213, 49876]\n"
          ]
        }
      ],
      "source": [
        "while True:\n",
        "    a=[100,10,1,298,65,483,49876,2,80,9,9213]\n",
        "    a.sort()\n",
        "    print(a)\n",
        "    break"
      ]
    },
    {
      "cell_type": "code",
      "execution_count": null,
      "id": "be7249e6",
      "metadata": {
        "id": "be7249e6",
        "outputId": "1d2d86d3-cb75-4f96-bad3-1f831cc2f061"
      },
      "outputs": [
        {
          "name": "stdout",
          "output_type": "stream",
          "text": [
            "[768, 1, 10, 11, 876, 92, 29]\n"
          ]
        }
      ],
      "source": [
        "while True:\n",
        "    a=[10,1,11,1,29,876,768,10,11,1,92,29,876]\n",
        "    b=list(set(a))\n",
        "    print(b)\n",
        "    break"
      ]
    },
    {
      "cell_type": "code",
      "execution_count": null,
      "id": "b567786c",
      "metadata": {
        "id": "b567786c",
        "outputId": "7e67a8a9-1af8-4381-cd52-4663557bd032"
      },
      "outputs": [
        {
          "name": "stdout",
          "output_type": "stream",
          "text": [
            "a\n",
            "List is Empty\n"
          ]
        }
      ],
      "source": [
        "while True:\n",
        "    a=[]\n",
        "    b=[10,20,30]\n",
        "    c=input()\n",
        "    if c=='a':\n",
        "        print('List is Empty')\n",
        "    else:\n",
        "        print('List is not Empty')\n",
        "    break\n"
      ]
    },
    {
      "cell_type": "code",
      "execution_count": null,
      "id": "016b04e1",
      "metadata": {
        "id": "016b04e1",
        "outputId": "616a1202-e426-43f9-ae66-62ea09f65791"
      },
      "outputs": [
        {
          "name": "stdout",
          "output_type": "stream",
          "text": [
            "[10, 10.2, (10+20j), 'Python', [10, 20], (10, 20)]\n"
          ]
        }
      ],
      "source": [
        "while True:\n",
        "    a=[10,10.20,10+20j, 'Python', [10,20], (10,20)]\n",
        "    b=a.copy()\n",
        "    print(b)\n",
        "    break"
      ]
    },
    {
      "cell_type": "code",
      "execution_count": null,
      "id": "ae9b9149",
      "metadata": {
        "id": "ae9b9149",
        "outputId": "c6e5be11-9abd-4b0e-9e7b-218b63ec2cae"
      },
      "outputs": [
        {
          "name": "stdout",
          "output_type": "stream",
          "text": [
            "How much wood would a woodchuck chuck if a woodchuck could chuck wood\n",
            "['chuck', 'would', 'wood', 'much', 'could', 'woodchuck']\n"
          ]
        }
      ],
      "source": [
        "a=input()\n",
        "b=a.split()\n",
        "c=[]\n",
        "for i in b:\n",
        "    if len(i)>=4:\n",
        "        c.append(i)\n",
        "print(list(set(c)))"
      ]
    },
    {
      "cell_type": "code",
      "execution_count": null,
      "id": "f31610bf",
      "metadata": {
        "id": "f31610bf",
        "outputId": "27819334-f742-4809-ecdc-1da0a9486831"
      },
      "outputs": [
        {
          "name": "stdout",
          "output_type": "stream",
          "text": [
            "Python Python True\n",
            "(10+20j) (10+20j) True\n",
            "[10, 20, 30] [10, 20, 30] True\n",
            "(10, 20, 30) (10, 20, 30) True\n"
          ]
        }
      ],
      "source": [
        "a= [10,20,'Python', 10.20, 10+20j, [10,20,30], (10,20,30)]\n",
        "b= [(10,20,30),1,20+3j,100.2, 10+20j, [10,20,30],'Python']\n",
        "for i in a:\n",
        "    for j in b:\n",
        "        if i == j:\n",
        "            print(i,j,True)\n",
        "    \n",
        "        "
      ]
    },
    {
      "cell_type": "code",
      "execution_count": null,
      "id": "353511b5",
      "metadata": {
        "id": "353511b5",
        "outputId": "03aa900a-e977-4cb1-ddf3-11882e369c5d"
      },
      "outputs": [
        {
          "name": "stdout",
          "output_type": "stream",
          "text": [
            "[21, 87, 45, 33, 1]\n"
          ]
        }
      ],
      "source": [
        "a=[10,21,22,98,87,45,33,1,2,100]\n",
        "b=[]\n",
        "for i in a:\n",
        "    if i%2!=0:\n",
        "        b.append(i)\n",
        "print(b)\n",
        "        "
      ]
    },
    {
      "cell_type": "code",
      "execution_count": null,
      "id": "b2f90366",
      "metadata": {
        "id": "b2f90366",
        "outputId": "72a7feae-623a-4978-8ff7-6ee90a954339"
      },
      "outputs": [
        {
          "name": "stdout",
          "output_type": "stream",
          "text": [
            "[33, 98, 1, 2, 100, 10, 45, 21, 22, 87]\n"
          ]
        }
      ],
      "source": [
        "a=[10,21,22,98,87,45,33,1,2,100]\n",
        "b=a.copy()\n",
        "print(list(set(b)))"
      ]
    },
    {
      "cell_type": "code",
      "execution_count": null,
      "id": "2a552051",
      "metadata": {
        "id": "2a552051",
        "outputId": "043e24ba-cb15-4b1a-8303-4b725a00917b"
      },
      "outputs": [
        {
          "name": "stdout",
          "output_type": "stream",
          "text": [
            "[[0, 0, 0, 0], [0, 1, 2, 3], [0, 2, 4, 6], [0, 3, 6, 9]]\n"
          ]
        }
      ],
      "source": [
        "a=[0 for i in range(4)]\n",
        "b=[i for i in range(4)]\n",
        "c=[i for i in range(0,7,2)]\n",
        "d=[i for i in range(0,10,3)]\n",
        "print([a]+[b]+[c]+[d])"
      ]
    },
    {
      "cell_type": "code",
      "execution_count": null,
      "id": "0b962c3f",
      "metadata": {
        "id": "0b962c3f",
        "outputId": "cc875c06-a226-419c-a804-80b750401cb5"
      },
      "outputs": [
        {
          "name": "stdout",
          "output_type": "stream",
          "text": [
            "[[0, 0, 0, 0, 0, 0], [0, 0, 0, 0, 0, 0], [0, 0, 0, 0, 0, 0], [0, 0, 0, 0, 0, 0]]\n",
            "[[0, 0, 0, 0, 0, 0], [1, 1, 1, 1, 1, 1], [2, 2, 2, 2, 2, 2], [3, 3, 3, 3, 3, 3]]\n",
            "[[0, 0, 0, 0, 0, 0], [2, 2, 2, 2, 2, 2], [4, 4, 4, 4, 4, 4], [6, 6, 6, 6, 6, 6]]\n"
          ]
        }
      ],
      "source": [
        "a=[[0]*6 for i in range(4)]\n",
        "print(a)\n",
        "b=[[i]*6 for i in range(4)]\n",
        "print(b)\n",
        "c=[[i]*6 for i in range(0,7,2)]\n",
        "print(c)\n",
        "\n"
      ]
    }
  ],
  "metadata": {
    "kernelspec": {
      "display_name": "Python 3 (ipykernel)",
      "language": "python",
      "name": "python3"
    },
    "language_info": {
      "codemirror_mode": {
        "name": "ipython",
        "version": 3
      },
      "file_extension": ".py",
      "mimetype": "text/x-python",
      "name": "python",
      "nbconvert_exporter": "python",
      "pygments_lexer": "ipython3",
      "version": "3.9.13"
    },
    "colab": {
      "provenance": [],
      "include_colab_link": true
    }
  },
  "nbformat": 4,
  "nbformat_minor": 5
}