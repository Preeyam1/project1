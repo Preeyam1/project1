{
 "cells": [
  {
   "cell_type": "code",
   "execution_count": null,
   "id": "6caa450a-aa60-4021-b1f7-f3143c73157d",
   "metadata": {},
   "outputs": [],
   "source": [
    "# Content\n",
    "# The dataset contains several parameters which are considered important during the application for Masters Programs.\n",
    "# The parameters included are :\n",
    "\n",
    "# GRE Scores ( out of 340 )\n",
    "# TOEFL Scores ( out of 120 )\n",
    "# University Rating ( out of 5 )\n",
    "# Statement of Purpose and Letter of Recommendation Strength ( out of 5 )\n",
    "# Undergraduate GPA ( out of 10 )\n",
    "# Research Experience ( either 0 or 1 )\n",
    "# Chance of Admit ( ranging from 0 to 1 )\n",
    "# Acknowledgements\n",
    "# This dataset is inspired by the UCLA Graduate Dataset. The test scores and GPA are in the older format.\n",
    "# The dataset is owned by Mohan S Acharya.\n",
    "\n",
    "# Inspiration\n",
    "# This dataset was built with the purpose of helping students in shortlisting universities with their profiles. \n",
    "#The predicted output gives them a fair idea about their chances for a particular university.\n",
    "\n",
    "# Citation\n",
    "# Please cite the following if you are interested in using the dataset :\n",
    "# Mohan S Acharya, Asfia Armaan, Aneeta S Antony : A Comparison of Regression Models for Prediction of Graduate Admissions, IEEE International Conference on Computational Intelligence in Data Science 2019\n",
    "\n",
    "# I would like to thank all of you for contributing to this dataset through discussions and questions. \n",
    "#I am in awe of the number of kernels built on this dataset. Some results and visualisations are fantastic and makes me a proud owner of the dataset. Keep em' coming! Thank You."
   ]
  },
  {
   "cell_type": "code",
   "execution_count": 32,
   "id": "8966e671-cb95-4ff0-ae4d-9273197ceb11",
   "metadata": {},
   "outputs": [],
   "source": [
    "import pandas as pd\n",
    "import numpy as np\n",
    "import matplotlib.pyplot as plt\n",
    "import seaborn as sns\n",
    "import sklearn as sk\n",
    "from sklearn import *\n",
    "import math as m\n",
    "from sklearn import preprocessing\n",
    "import warnings\n",
    "warnings.filterwarnings('ignore')"
   ]
  },
  {
   "cell_type": "code",
   "execution_count": 3,
   "id": "6380e1ba-0d6b-4701-bd44-759f9a04ebd6",
   "metadata": {},
   "outputs": [
    {
     "data": {
      "text/html": [
       "<div>\n",
       "<style scoped>\n",
       "    .dataframe tbody tr th:only-of-type {\n",
       "        vertical-align: middle;\n",
       "    }\n",
       "\n",
       "    .dataframe tbody tr th {\n",
       "        vertical-align: top;\n",
       "    }\n",
       "\n",
       "    .dataframe thead th {\n",
       "        text-align: right;\n",
       "    }\n",
       "</style>\n",
       "<table border=\"1\" class=\"dataframe\">\n",
       "  <thead>\n",
       "    <tr style=\"text-align: right;\">\n",
       "      <th></th>\n",
       "      <th>Serial No.</th>\n",
       "      <th>GRE Score</th>\n",
       "      <th>TOEFL Score</th>\n",
       "      <th>University Rating</th>\n",
       "      <th>SOP</th>\n",
       "      <th>LOR</th>\n",
       "      <th>CGPA</th>\n",
       "      <th>Research</th>\n",
       "      <th>Chance of Admit</th>\n",
       "    </tr>\n",
       "  </thead>\n",
       "  <tbody>\n",
       "    <tr>\n",
       "      <th>0</th>\n",
       "      <td>1</td>\n",
       "      <td>337</td>\n",
       "      <td>118</td>\n",
       "      <td>4</td>\n",
       "      <td>4.5</td>\n",
       "      <td>4.5</td>\n",
       "      <td>9.65</td>\n",
       "      <td>1</td>\n",
       "      <td>0.92</td>\n",
       "    </tr>\n",
       "    <tr>\n",
       "      <th>1</th>\n",
       "      <td>2</td>\n",
       "      <td>324</td>\n",
       "      <td>107</td>\n",
       "      <td>4</td>\n",
       "      <td>4.0</td>\n",
       "      <td>4.5</td>\n",
       "      <td>8.87</td>\n",
       "      <td>1</td>\n",
       "      <td>0.76</td>\n",
       "    </tr>\n",
       "    <tr>\n",
       "      <th>2</th>\n",
       "      <td>3</td>\n",
       "      <td>316</td>\n",
       "      <td>104</td>\n",
       "      <td>3</td>\n",
       "      <td>3.0</td>\n",
       "      <td>3.5</td>\n",
       "      <td>8.00</td>\n",
       "      <td>1</td>\n",
       "      <td>0.72</td>\n",
       "    </tr>\n",
       "    <tr>\n",
       "      <th>3</th>\n",
       "      <td>4</td>\n",
       "      <td>322</td>\n",
       "      <td>110</td>\n",
       "      <td>3</td>\n",
       "      <td>3.5</td>\n",
       "      <td>2.5</td>\n",
       "      <td>8.67</td>\n",
       "      <td>1</td>\n",
       "      <td>0.80</td>\n",
       "    </tr>\n",
       "    <tr>\n",
       "      <th>4</th>\n",
       "      <td>5</td>\n",
       "      <td>314</td>\n",
       "      <td>103</td>\n",
       "      <td>2</td>\n",
       "      <td>2.0</td>\n",
       "      <td>3.0</td>\n",
       "      <td>8.21</td>\n",
       "      <td>0</td>\n",
       "      <td>0.65</td>\n",
       "    </tr>\n",
       "  </tbody>\n",
       "</table>\n",
       "</div>"
      ],
      "text/plain": [
       "   Serial No.  GRE Score  TOEFL Score  University Rating  SOP  LOR   CGPA  \\\n",
       "0           1        337          118                  4  4.5   4.5  9.65   \n",
       "1           2        324          107                  4  4.0   4.5  8.87   \n",
       "2           3        316          104                  3  3.0   3.5  8.00   \n",
       "3           4        322          110                  3  3.5   2.5  8.67   \n",
       "4           5        314          103                  2  2.0   3.0  8.21   \n",
       "\n",
       "   Research  Chance of Admit   \n",
       "0         1              0.92  \n",
       "1         1              0.76  \n",
       "2         1              0.72  \n",
       "3         1              0.80  \n",
       "4         0              0.65  "
      ]
     },
     "execution_count": 3,
     "metadata": {},
     "output_type": "execute_result"
    }
   ],
   "source": [
    "data=pd.read_csv('Admission_Predict.csv')\n",
    "data.head()"
   ]
  },
  {
   "cell_type": "code",
   "execution_count": 26,
   "id": "5c2122e2-3a2c-4148-ba0b-95b047e2ce38",
   "metadata": {},
   "outputs": [
    {
     "data": {
      "text/plain": [
       "(400, 9)"
      ]
     },
     "execution_count": 26,
     "metadata": {},
     "output_type": "execute_result"
    }
   ],
   "source": [
    "data.shape"
   ]
  },
  {
   "cell_type": "code",
   "execution_count": 27,
   "id": "32551434-4f82-4be1-b056-917d6eda3cc2",
   "metadata": {},
   "outputs": [
    {
     "name": "stdout",
     "output_type": "stream",
     "text": [
      "<class 'pandas.core.frame.DataFrame'>\n",
      "RangeIndex: 400 entries, 0 to 399\n",
      "Data columns (total 9 columns):\n",
      " #   Column             Non-Null Count  Dtype  \n",
      "---  ------             --------------  -----  \n",
      " 0   Serial No.         400 non-null    int64  \n",
      " 1   GRE Score          400 non-null    int64  \n",
      " 2   TOEFL Score        400 non-null    int64  \n",
      " 3   University Rating  400 non-null    int64  \n",
      " 4   SOP                400 non-null    float64\n",
      " 5   LOR                400 non-null    float64\n",
      " 6   CGPA               400 non-null    float64\n",
      " 7   Research           400 non-null    int64  \n",
      " 8   Chance of Admit    400 non-null    float64\n",
      "dtypes: float64(4), int64(5)\n",
      "memory usage: 28.2 KB\n"
     ]
    }
   ],
   "source": [
    "data.info()"
   ]
  },
  {
   "cell_type": "code",
   "execution_count": 34,
   "id": "7223eb87-a753-4e92-91cd-55969cf624fa",
   "metadata": {},
   "outputs": [],
   "source": [
    "data.drop(columns=['Serial No.'], inplace=True)\n"
   ]
  },
  {
   "cell_type": "code",
   "execution_count": 38,
   "id": "01307926-a770-41d5-ba5f-2c430c6845e2",
   "metadata": {},
   "outputs": [
    {
     "data": {
      "text/html": [
       "<div>\n",
       "<style scoped>\n",
       "    .dataframe tbody tr th:only-of-type {\n",
       "        vertical-align: middle;\n",
       "    }\n",
       "\n",
       "    .dataframe tbody tr th {\n",
       "        vertical-align: top;\n",
       "    }\n",
       "\n",
       "    .dataframe thead th {\n",
       "        text-align: right;\n",
       "    }\n",
       "</style>\n",
       "<table border=\"1\" class=\"dataframe\">\n",
       "  <thead>\n",
       "    <tr style=\"text-align: right;\">\n",
       "      <th></th>\n",
       "      <th>GRE Score</th>\n",
       "      <th>TOEFL Score</th>\n",
       "      <th>University Rating</th>\n",
       "      <th>SOP</th>\n",
       "      <th>LOR</th>\n",
       "      <th>CGPA</th>\n",
       "      <th>Research</th>\n",
       "      <th>Chance of Admit</th>\n",
       "    </tr>\n",
       "  </thead>\n",
       "  <tbody>\n",
       "    <tr>\n",
       "      <th>0</th>\n",
       "      <td>337</td>\n",
       "      <td>118</td>\n",
       "      <td>4</td>\n",
       "      <td>4.5</td>\n",
       "      <td>4.5</td>\n",
       "      <td>9.65</td>\n",
       "      <td>1</td>\n",
       "      <td>0.92</td>\n",
       "    </tr>\n",
       "    <tr>\n",
       "      <th>1</th>\n",
       "      <td>324</td>\n",
       "      <td>107</td>\n",
       "      <td>4</td>\n",
       "      <td>4.0</td>\n",
       "      <td>4.5</td>\n",
       "      <td>8.87</td>\n",
       "      <td>1</td>\n",
       "      <td>0.76</td>\n",
       "    </tr>\n",
       "    <tr>\n",
       "      <th>2</th>\n",
       "      <td>316</td>\n",
       "      <td>104</td>\n",
       "      <td>3</td>\n",
       "      <td>3.0</td>\n",
       "      <td>3.5</td>\n",
       "      <td>8.00</td>\n",
       "      <td>1</td>\n",
       "      <td>0.72</td>\n",
       "    </tr>\n",
       "    <tr>\n",
       "      <th>3</th>\n",
       "      <td>322</td>\n",
       "      <td>110</td>\n",
       "      <td>3</td>\n",
       "      <td>3.5</td>\n",
       "      <td>2.5</td>\n",
       "      <td>8.67</td>\n",
       "      <td>1</td>\n",
       "      <td>0.80</td>\n",
       "    </tr>\n",
       "    <tr>\n",
       "      <th>4</th>\n",
       "      <td>314</td>\n",
       "      <td>103</td>\n",
       "      <td>2</td>\n",
       "      <td>2.0</td>\n",
       "      <td>3.0</td>\n",
       "      <td>8.21</td>\n",
       "      <td>0</td>\n",
       "      <td>0.65</td>\n",
       "    </tr>\n",
       "  </tbody>\n",
       "</table>\n",
       "</div>"
      ],
      "text/plain": [
       "   GRE Score  TOEFL Score  University Rating  SOP  LOR   CGPA  Research  \\\n",
       "0        337          118                  4  4.5   4.5  9.65         1   \n",
       "1        324          107                  4  4.0   4.5  8.87         1   \n",
       "2        316          104                  3  3.0   3.5  8.00         1   \n",
       "3        322          110                  3  3.5   2.5  8.67         1   \n",
       "4        314          103                  2  2.0   3.0  8.21         0   \n",
       "\n",
       "   Chance of Admit   \n",
       "0              0.92  \n",
       "1              0.76  \n",
       "2              0.72  \n",
       "3              0.80  \n",
       "4              0.65  "
      ]
     },
     "execution_count": 38,
     "metadata": {},
     "output_type": "execute_result"
    }
   ],
   "source": [
    "data.head()"
   ]
  },
  {
   "cell_type": "code",
   "execution_count": 39,
   "id": "42f1669a-4867-447e-8491-461cf57843fc",
   "metadata": {},
   "outputs": [
    {
     "data": {
      "text/plain": [
       "<AxesSubplot:xlabel='University Rating', ylabel='count'>"
      ]
     },
     "execution_count": 39,
     "metadata": {},
     "output_type": "execute_result"
    },
    {
     "data": {
      "image/png": "[encoded data removed]",
      "text/plain": [
       "<Figure size 640x480 with 1 Axes>"
      ]
     },
     "metadata": {},
     "output_type": "display_data"
    }
   ],
   "source": [
    "sns.countplot(data['University Rating'])"
   ]
  },
  {
   "cell_type": "markdown",
   "id": "6bb54d32-b884-4b6b-93f0-9c492eee01a0",
   "metadata": {},
   "source": [
    "# insights\n",
    "\n",
    "### university 3 has the highest numer of rating count followed y 2 and the least rating is for the university 1"
   ]
  },
  {
   "cell_type": "code",
   "execution_count": 46,
   "id": "167c93ca-83df-4e1f-93fc-5f9b7b39ef68",
   "metadata": {},
   "outputs": [
    {
     "data": {
      "text/plain": [
       "<AxesSubplot:xlabel='GRE Score', ylabel='Chance of Admit '>"
      ]
     },
     "execution_count": 46,
     "metadata": {},
     "output_type": "execute_result"
    },
    {
     "data": {
      "image/png": "[encoded data removed]",
      "text/plain": [
       "<Figure size 640x480 with 1 Axes>"
      ]
     },
     "metadata": {},
     "output_type": "display_data"
    }
   ],
   "source": [
    "sns.scatterplot(x=data['GRE Score'],y=data['Chance of Admit '],hue=data['University Rating'],data=data)"
   ]
  },
  {
   "cell_type": "code",
   "execution_count": 48,
   "id": "e4b00923-ad71-40cc-af8e-9a8a9d65fb38",
   "metadata": {},
   "outputs": [
    {
     "data": {
      "text/html": [
       "<div>\n",
       "<style scoped>\n",
       "    .dataframe tbody tr th:only-of-type {\n",
       "        vertical-align: middle;\n",
       "    }\n",
       "\n",
       "    .dataframe tbody tr th {\n",
       "        vertical-align: top;\n",
       "    }\n",
       "\n",
       "    .dataframe thead th {\n",
       "        text-align: right;\n",
       "    }\n",
       "</style>\n",
       "<table border=\"1\" class=\"dataframe\">\n",
       "  <thead>\n",
       "    <tr style=\"text-align: right;\">\n",
       "      <th></th>\n",
       "      <th>AvgGRE</th>\n",
       "      <th>AvgTOFEL</th>\n",
       "      <th>AvgCGPA</th>\n",
       "      <th>AvgAdmit</th>\n",
       "    </tr>\n",
       "    <tr>\n",
       "      <th>University Rating</th>\n",
       "      <th></th>\n",
       "      <th></th>\n",
       "      <th></th>\n",
       "      <th></th>\n",
       "    </tr>\n",
       "  </thead>\n",
       "  <tbody>\n",
       "    <tr>\n",
       "      <th>1</th>\n",
       "      <td>303.153846</td>\n",
       "      <td>99.076923</td>\n",
       "      <td>7.745769</td>\n",
       "      <td>0.548077</td>\n",
       "    </tr>\n",
       "    <tr>\n",
       "      <th>2</th>\n",
       "      <td>309.177570</td>\n",
       "      <td>103.523364</td>\n",
       "      <td>8.183738</td>\n",
       "      <td>0.625981</td>\n",
       "    </tr>\n",
       "    <tr>\n",
       "      <th>3</th>\n",
       "      <td>315.954887</td>\n",
       "      <td>106.887218</td>\n",
       "      <td>8.552256</td>\n",
       "      <td>0.711880</td>\n",
       "    </tr>\n",
       "    <tr>\n",
       "      <th>4</th>\n",
       "      <td>324.824324</td>\n",
       "      <td>111.824324</td>\n",
       "      <td>9.021622</td>\n",
       "      <td>0.818108</td>\n",
       "    </tr>\n",
       "    <tr>\n",
       "      <th>5</th>\n",
       "      <td>328.333333</td>\n",
       "      <td>113.666667</td>\n",
       "      <td>9.291167</td>\n",
       "      <td>0.888167</td>\n",
       "    </tr>\n",
       "  </tbody>\n",
       "</table>\n",
       "</div>"
      ],
      "text/plain": [
       "                       AvgGRE    AvgTOFEL   AvgCGPA  AvgAdmit\n",
       "University Rating                                            \n",
       "1                  303.153846   99.076923  7.745769  0.548077\n",
       "2                  309.177570  103.523364  8.183738  0.625981\n",
       "3                  315.954887  106.887218  8.552256  0.711880\n",
       "4                  324.824324  111.824324  9.021622  0.818108\n",
       "5                  328.333333  113.666667  9.291167  0.888167"
      ]
     },
     "execution_count": 48,
     "metadata": {},
     "output_type": "execute_result"
    }
   ],
   "source": [
    "grp=data.groupby(by='University Rating').agg(AvgGRE=('GRE Score','mean'),\n",
    "                                            AvgTOFEL=('TOEFL Score','mean'),\n",
    "                                            AvgCGPA=( 'CGPA','mean'),\n",
    "                                            AvgAdmit=('Chance of Admit ','mean'))\n",
    "grp"
   ]
  },
  {
   "cell_type": "code",
   "execution_count": null,
   "id": "911e8dee-1767-4fd4-9319-327e2fe4fa3c",
   "metadata": {},
   "outputs": [],
   "source": [
    "# Insights\n",
    "\n",
    "## there is positive relation among the AVG gre, AVg TOEFL and Avg cgpa"
   ]
  },
  {
   "cell_type": "code",
   "execution_count": 52,
   "id": "0accc0d5-daaf-4b4f-a83a-faca6b5dfa46",
   "metadata": {},
   "outputs": [
    {
     "data": {
      "text/html": [
       "<div>\n",
       "<style scoped>\n",
       "    .dataframe tbody tr th:only-of-type {\n",
       "        vertical-align: middle;\n",
       "    }\n",
       "\n",
       "    .dataframe tbody tr th {\n",
       "        vertical-align: top;\n",
       "    }\n",
       "\n",
       "    .dataframe thead th {\n",
       "        text-align: right;\n",
       "    }\n",
       "</style>\n",
       "<table border=\"1\" class=\"dataframe\">\n",
       "  <thead>\n",
       "    <tr style=\"text-align: right;\">\n",
       "      <th></th>\n",
       "      <th>GRE Score</th>\n",
       "      <th>TOEFL Score</th>\n",
       "      <th>University Rating</th>\n",
       "      <th>SOP</th>\n",
       "      <th>LOR</th>\n",
       "      <th>CGPA</th>\n",
       "      <th>Research</th>\n",
       "      <th>Chance of Admit</th>\n",
       "    </tr>\n",
       "  </thead>\n",
       "  <tbody>\n",
       "    <tr>\n",
       "      <th>count</th>\n",
       "      <td>55.000000</td>\n",
       "      <td>55.000000</td>\n",
       "      <td>55.000000</td>\n",
       "      <td>55.000000</td>\n",
       "      <td>55.000000</td>\n",
       "      <td>55.000000</td>\n",
       "      <td>55.0</td>\n",
       "      <td>55.000000</td>\n",
       "    </tr>\n",
       "    <tr>\n",
       "      <th>mean</th>\n",
       "      <td>333.327273</td>\n",
       "      <td>116.272727</td>\n",
       "      <td>4.636364</td>\n",
       "      <td>4.563636</td>\n",
       "      <td>4.436364</td>\n",
       "      <td>9.511818</td>\n",
       "      <td>1.0</td>\n",
       "      <td>0.933455</td>\n",
       "    </tr>\n",
       "    <tr>\n",
       "      <th>std</th>\n",
       "      <td>5.153404</td>\n",
       "      <td>2.711119</td>\n",
       "      <td>0.485479</td>\n",
       "      <td>0.462026</td>\n",
       "      <td>0.527525</td>\n",
       "      <td>0.205967</td>\n",
       "      <td>0.0</td>\n",
       "      <td>0.020925</td>\n",
       "    </tr>\n",
       "    <tr>\n",
       "      <th>min</th>\n",
       "      <td>320.000000</td>\n",
       "      <td>110.000000</td>\n",
       "      <td>4.000000</td>\n",
       "      <td>3.000000</td>\n",
       "      <td>3.000000</td>\n",
       "      <td>9.160000</td>\n",
       "      <td>1.0</td>\n",
       "      <td>0.900000</td>\n",
       "    </tr>\n",
       "    <tr>\n",
       "      <th>25%</th>\n",
       "      <td>331.000000</td>\n",
       "      <td>115.000000</td>\n",
       "      <td>4.000000</td>\n",
       "      <td>4.500000</td>\n",
       "      <td>4.000000</td>\n",
       "      <td>9.360000</td>\n",
       "      <td>1.0</td>\n",
       "      <td>0.920000</td>\n",
       "    </tr>\n",
       "    <tr>\n",
       "      <th>50%</th>\n",
       "      <td>334.000000</td>\n",
       "      <td>116.000000</td>\n",
       "      <td>5.000000</td>\n",
       "      <td>4.500000</td>\n",
       "      <td>4.500000</td>\n",
       "      <td>9.470000</td>\n",
       "      <td>1.0</td>\n",
       "      <td>0.930000</td>\n",
       "    </tr>\n",
       "    <tr>\n",
       "      <th>75%</th>\n",
       "      <td>337.500000</td>\n",
       "      <td>118.500000</td>\n",
       "      <td>5.000000</td>\n",
       "      <td>5.000000</td>\n",
       "      <td>5.000000</td>\n",
       "      <td>9.660000</td>\n",
       "      <td>1.0</td>\n",
       "      <td>0.950000</td>\n",
       "    </tr>\n",
       "    <tr>\n",
       "      <th>max</th>\n",
       "      <td>340.000000</td>\n",
       "      <td>120.000000</td>\n",
       "      <td>5.000000</td>\n",
       "      <td>5.000000</td>\n",
       "      <td>5.000000</td>\n",
       "      <td>9.920000</td>\n",
       "      <td>1.0</td>\n",
       "      <td>0.970000</td>\n",
       "    </tr>\n",
       "  </tbody>\n",
       "</table>\n",
       "</div>"
      ],
      "text/plain": [
       "        GRE Score  TOEFL Score  University Rating        SOP       LOR   \\\n",
       "count   55.000000    55.000000          55.000000  55.000000  55.000000   \n",
       "mean   333.327273   116.272727           4.636364   4.563636   4.436364   \n",
       "std      5.153404     2.711119           0.485479   0.462026   0.527525   \n",
       "min    320.000000   110.000000           4.000000   3.000000   3.000000   \n",
       "25%    331.000000   115.000000           4.000000   4.500000   4.000000   \n",
       "50%    334.000000   116.000000           5.000000   4.500000   4.500000   \n",
       "75%    337.500000   118.500000           5.000000   5.000000   5.000000   \n",
       "max    340.000000   120.000000           5.000000   5.000000   5.000000   \n",
       "\n",
       "            CGPA  Research  Chance of Admit   \n",
       "count  55.000000      55.0         55.000000  \n",
       "mean    9.511818       1.0          0.933455  \n",
       "std     0.205967       0.0          0.020925  \n",
       "min     9.160000       1.0          0.900000  \n",
       "25%     9.360000       1.0          0.920000  \n",
       "50%     9.470000       1.0          0.930000  \n",
       "75%     9.660000       1.0          0.950000  \n",
       "max     9.920000       1.0          0.970000  "
      ]
     },
     "execution_count": 52,
     "metadata": {},
     "output_type": "execute_result"
    }
   ],
   "source": [
    "x=data[(data['Chance of Admit ']>=0.9)&(data['University Rating']>=4)]\n",
    "x.describe()"
   ]
  },
  {
   "cell_type": "code",
   "execution_count": 53,
   "id": "c3d242c5-19f9-40e4-bfcc-5860ffb1f4db",
   "metadata": {},
   "outputs": [
    {
     "data": {
      "text/plain": [
       "<AxesSubplot:>"
      ]
     },
     "execution_count": 53,
     "metadata": {},
     "output_type": "execute_result"
    },
    {
     "data": {
      "image/png": "[encoded data removed]",
      "text/plain": [
       "<Figure size 640x480 with 2 Axes>"
      ]
     },
     "metadata": {},
     "output_type": "display_data"
    }
   ],
   "source": [
    "sns.heatmap(data.corr(),annot=True,cmap='coolwarm')"
   ]
  },
  {
   "cell_type": "code",
   "execution_count": 4,
   "id": "5f32e090-400b-4319-b7e2-38b94667037b",
   "metadata": {},
   "outputs": [],
   "source": [
    "x=data.drop(columns=['Chance of Admit '])\n",
    "y=data['Chance of Admit ']"
   ]
  },
  {
   "cell_type": "code",
   "execution_count": 5,
   "id": "70dbc35f-e195-45df-a914-0fffa2b27dae",
   "metadata": {},
   "outputs": [],
   "source": [
    "std = preprocessing.StandardScaler().fit_transform(x)"
   ]
  },
  {
   "cell_type": "markdown",
   "id": "1fcfa529-ad70-4bf8-a76a-39121a213d85",
   "metadata": {},
   "source": [
    "# Pca for handle multicolinearity in model "
   ]
  },
  {
   "cell_type": "code",
   "execution_count": 6,
   "id": "885a6fe1-fd8a-49a4-84a5-f8f29f484e80",
   "metadata": {},
   "outputs": [
    {
     "data": {
      "text/plain": [
       "(400, 6)"
      ]
     },
     "execution_count": 6,
     "metadata": {},
     "output_type": "execute_result"
    }
   ],
   "source": [
    "pca=sk.decomposition.PCA(n_components=6).fit_transform(std)\n",
    "pca.shape"
   ]
  },
  {
   "cell_type": "code",
   "execution_count": 64,
   "id": "f7af5c08-0e7d-40d0-b42f-193131058fd1",
   "metadata": {},
   "outputs": [],
   "source": [
    "data1=pd.DataFrame(pca)"
   ]
  },
  {
   "cell_type": "code",
   "execution_count": 65,
   "id": "c10a9292-60a2-4d0f-b8ad-abd5c1b7a727",
   "metadata": {},
   "outputs": [
    {
     "data": {
      "text/plain": [
       "<AxesSubplot:>"
      ]
     },
     "execution_count": 65,
     "metadata": {},
     "output_type": "execute_result"
    },
    {
     "data": {
      "image/png": "[encoded data removed]",
      "text/plain": [
       "<Figure size 640x480 with 2 Axes>"
      ]
     },
     "metadata": {},
     "output_type": "display_data"
    }
   ],
   "source": [
    "sns.heatmap(data1.corr(),annot=True,cmap='coolwarm')"
   ]
  },
  {
   "cell_type": "code",
   "execution_count": 23,
   "id": "160c95d9-7c2a-4e62-8ab4-72f991a9b3a3",
   "metadata": {},
   "outputs": [],
   "source": [
    "x_train,x_test,y_train,y_test=sk.model_selection.train_test_split(pca,y,test_size=0.2,random_state=17)"
   ]
  },
  {
   "cell_type": "code",
   "execution_count": 33,
   "id": "497ac1ed-9d8e-433c-9f0f-9489d3c05d75",
   "metadata": {},
   "outputs": [],
   "source": [
    "from sklearn.metrics import r2_score,mean_squared_error"
   ]
  },
  {
   "cell_type": "code",
   "execution_count": 9,
   "id": "ee2e3353-eced-408a-83f3-5ca091e72399",
   "metadata": {},
   "outputs": [
    {
     "name": "stdout",
     "output_type": "stream",
     "text": [
      "R-square value for train is 0.8033646110167718\n",
      "RMSE value for train is 0.06129198003664723\n"
     ]
    }
   ],
   "source": [
    "train=sk.linear_model.LinearRegression().fit(x_train,y_train)\n",
    "y_pred=train.predict(x_train)\n",
    "q=r2_score(y_train,y_pred)\n",
    "print(f'R-square value for train is {q}')\n",
    "print(f'RMSE value for train is {m.sqrt(mean_squared_error(y_train,y_pred))}')"
   ]
  },
  {
   "cell_type": "markdown",
   "id": "ac269bd7-938c-4e2c-8295-5fe5810ee1b9",
   "metadata": {},
   "source": [
    "# Adj R2"
   ]
  },
  {
   "cell_type": "code",
   "execution_count": 73,
   "id": "02155049-2d89-44d6-ac6a-b7669120fc1e",
   "metadata": {},
   "outputs": [
    {
     "name": "stdout",
     "output_type": "stream",
     "text": [
      "R-square value for train is 0.7793431839930135\n"
     ]
    }
   ],
   "source": [
    "n=len(y_train)\n",
    "k=std.shape[1]\n",
    "adj_r2=1-((1-r2_score(y_train,y_pred))*(n-1)/(n-k-1))\n",
    "print(f'R-square value for train is {adj_r2}')"
   ]
  },
  {
   "cell_type": "code",
   "execution_count": 74,
   "id": "a74b3bb9-ccdb-43ad-b41b-591af165c1f7",
   "metadata": {},
   "outputs": [
    {
     "name": "stdout",
     "output_type": "stream",
     "text": [
      "R-square value for train is 0.8197478163914707\n",
      "RMSE value for train is 0.06421159232282667\n"
     ]
    }
   ],
   "source": [
    "y_test_pred=train.predict(x_test)\n",
    "q=r2_score(y_test,y_test_pred)\n",
    "print(f'R-square value for train is {q}')\n",
    "print(f'RMSE value for train is {m.sqrt(mean_squared_error(y_train,y_pred))}')"
   ]
  },
  {
   "cell_type": "code",
   "execution_count": 75,
   "id": "34b59a52-9450-4307-b2f5-e611326268dc",
   "metadata": {},
   "outputs": [
    {
     "name": "stdout",
     "output_type": "stream",
     "text": [
      "R-square value for train is 0.8022232985406414\n"
     ]
    }
   ],
   "source": [
    "n=len(y_test)\n",
    "k=std.shape[1]\n",
    "adj_r2=1-((1-r2_score(y_test,y_test_pred))*(n-1)/(n-k-1))\n",
    "print(f'R-square value for train is {adj_r2}')"
   ]
  },
  {
   "cell_type": "markdown",
   "id": "1ff0d9ee-1cb9-46c0-94ae-62864ecfa7b1",
   "metadata": {},
   "source": [
    "# imorting ridge and lasso"
   ]
  },
  {
   "cell_type": "code",
   "execution_count": 37,
   "id": "915b522d-0f02-4e87-aa1f-babb822d7dc8",
   "metadata": {},
   "outputs": [],
   "source": [
    "from sklearn.linear_model import LassoCV,Lasso\n",
    "from sklearn.linear_model import RidgeCV,Ridge\n"
   ]
  },
  {
   "cell_type": "markdown",
   "id": "72a8a490-f425-4d21-9d79-92d3322024cd",
   "metadata": {},
   "source": [
    "# Lasso Regression "
   ]
  },
  {
   "cell_type": "code",
   "execution_count": 26,
   "id": "610164e2-8819-44a8-a731-c6c7e997ae40",
   "metadata": {},
   "outputs": [],
   "source": [
    "model = LassoCV(cv=10,random_state=10,max_iter=1000).fit(x_train,y_train)\n",
    "x=model.alpha_\n"
   ]
  },
  {
   "cell_type": "code",
   "execution_count": 36,
   "id": "a6db960b-2214-4202-996f-4819a12280b3",
   "metadata": {},
   "outputs": [
    {
     "name": "stdout",
     "output_type": "stream",
     "text": [
      "R-square value for test is 0.8240899063915663\n",
      "RMSE value for test is 0.06602569912862227\n"
     ]
    }
   ],
   "source": [
    "lasso=Lasso(alpha=x).fit(x_train,y_train)\n",
    "y_pred=lasso.predict(x_test)\n",
    "q=r2_score(y_test,y_pred)\n",
    "print(f'R-square value for test is {q}')\n",
    "print(f'RMSE value for test is {m.sqrt(mean_squared_error(y_pred,y_test))}')"
   ]
  },
  {
   "cell_type": "markdown",
   "id": "c3af577c-ab3a-4109-b410-e19e89247843",
   "metadata": {},
   "source": [
    "# Ridge Regression"
   ]
  },
  {
   "cell_type": "code",
   "execution_count": 41,
   "id": "1bbee009-2c82-4525-842a-20fb2a2019b2",
   "metadata": {},
   "outputs": [],
   "source": [
    "model = RidgeCV(cv=10,alphas=(0.01,0.07,0.1,0.5,0.8, 1.0, 5.0,8.0,10.0,13.0,16.0,18.0,21.0,23.0)).fit(x_train,y_train)\n",
    "x=model.alpha_\n"
   ]
  },
  {
   "cell_type": "code",
   "execution_count": 42,
   "id": "e4d015f3-cd41-42ec-a2b8-9ab2b1601e74",
   "metadata": {},
   "outputs": [
    {
     "name": "stdout",
     "output_type": "stream",
     "text": [
      "R-square value for test is 0.823760628230121\n",
      "RMSE value for test is 0.06608746550020213\n"
     ]
    }
   ],
   "source": [
    "ridge=Ridge(alpha=x).fit(x_train,y_train)\n",
    "y_pred=ridge.predict(x_test)\n",
    "q=r2_score(y_test,y_pred)\n",
    "print(f'R-square value for test is {q}')\n",
    "print(f'RMSE value for test is {m.sqrt(mean_squared_error(y_pred,y_test))}')"
   ]
  },
  {
   "cell_type": "markdown",
   "id": "c7e5087f-bc11-42de-8ad5-d88af8a03501",
   "metadata": {},
   "source": [
    "# KNN neighbour regressor"
   ]
  },
  {
   "cell_type": "code",
   "execution_count": 43,
   "id": "95271176-8171-497e-900d-b97ea70ae5d6",
   "metadata": {},
   "outputs": [],
   "source": [
    "from sklearn.neighbors import KNeighborsRegressor"
   ]
  },
  {
   "cell_type": "code",
   "execution_count": 49,
   "id": "135a1674-aa3a-4827-b3ae-b652e1f8f809",
   "metadata": {},
   "outputs": [
    {
     "name": "stdout",
     "output_type": "stream",
     "text": [
      "R-square value for train is 0.8163837809524952\n",
      "RMSE value for train is 0.059228172256865136\n",
      "************************************************************************************\n",
      "R-square value for test is 0.7927919612150316\n",
      "RMSE value for test is 0.07165903060094146\n"
     ]
    }
   ],
   "source": [
    "knn=KNeighborsRegressor(n_neighbors=15).fit(x_train,y_train)\n",
    "y_train_pred=knn.predict(x_train)\n",
    "q=r2_score(y_train,y_train_pred)\n",
    "print(f'R-square value for train is {q}')\n",
    "print(f'RMSE value for train is {m.sqrt(mean_squared_error(y_train_pred,y_train))}')\n",
    "\n",
    "print('************************************************************************************')\n",
    "\n",
    "y_pred=knn.predict(x_test)\n",
    "q=r2_score(y_test,y_pred)\n",
    "print(f'R-square value for test is {q}')\n",
    "print(f'RMSE value for test is {m.sqrt(mean_squared_error(y_pred,y_test))}')"
   ]
  },
  {
   "cell_type": "code",
   "execution_count": null,
   "id": "68889dbd-3e00-41e9-a52e-e9b02b738747",
   "metadata": {},
   "outputs": [],
   "source": []
  },
  {
   "cell_type": "code",
   "execution_count": 55,
   "id": "165bae56-5bce-491f-a1f3-1425296ef001",
   "metadata": {},
   "outputs": [],
   "source": [
    "from sklearn.tree import DecisionTreeRegressor\n",
    "from sklearn.ensemble import RandomForestRegressor,AdaBoostRegressor,GradientBoostingRegressor\n",
    "from sklearn.svm import SVR\n",
    "from xgboost import XGBRegressor"
   ]
  },
  {
   "cell_type": "markdown",
   "id": "138ef3f7-65ae-431b-959c-912b6d1c607d",
   "metadata": {},
   "source": [
    "# grid search cv"
   ]
  },
  {
   "cell_type": "code",
   "execution_count": 63,
   "id": "9c709106-a2da-4e55-ac58-4368a57305a8",
   "metadata": {},
   "outputs": [
    {
     "data": {
      "text/plain": [
       "{'criterion': 'squared_error',\n",
       " 'max_depth': 6,\n",
       " 'min_samples_leaf': 7,\n",
       " 'min_samples_split': 9}"
      ]
     },
     "execution_count": 63,
     "metadata": {},
     "output_type": "execute_result"
    }
   ],
   "source": [
    "param_dist = {'max_depth': [1,2,3,4,5,6,7],\n",
    "              'min_samples_leaf': [5,7,8,10,11],\n",
    "              'min_samples_split':[3,5,7,8,9,10,11,12,13,15,21,24],\n",
    "              'criterion': ['squared_error']}\n",
    "search= sk.model_selection.GridSearchCV(dt,cv=10,param_grid=param_dist,n_jobs=1).fit(x_train,y_train)\n",
    "search.best_params_"
   ]
  },
  {
   "cell_type": "markdown",
   "id": "ee7d17ea-79b8-40f1-a039-0c042f848407",
   "metadata": {},
   "source": [
    "# DecisionTreeRegressor"
   ]
  },
  {
   "cell_type": "code",
   "execution_count": 64,
   "id": "c4ed0044-0692-47a2-bc2e-a9af5c02dee4",
   "metadata": {},
   "outputs": [
    {
     "name": "stdout",
     "output_type": "stream",
     "text": [
      "R-square value for train is 0.8917808872137252\n",
      "RMSE value for train is 0.04546998335261661\n",
      "************************************************************************************\n",
      "R-square value for test is 0.8035459815175306\n",
      "RMSE value for test is 0.06977471753906568\n"
     ]
    }
   ],
   "source": [
    "dt=DecisionTreeRegressor(criterion= 'squared_error',max_depth=6,min_samples_leaf=7,min_samples_split=9).fit(x_train,y_train)\n",
    "y_train_pred=dt.predict(x_train)\n",
    "q=r2_score(y_train,y_train_pred)\n",
    "print(f'R-square value for train is {q}')\n",
    "print(f'RMSE value for train is {m.sqrt(mean_squared_error(y_train_pred,y_train))}')\n",
    "\n",
    "print('************************************************************************************')\n",
    "\n",
    "y_pred=dt.predict(x_test)\n",
    "q=r2_score(y_test,y_pred)\n",
    "print(f'R-square value for test is {q}')\n",
    "print(f'RMSE value for test is {m.sqrt(mean_squared_error(y_pred,y_test))}')"
   ]
  },
  {
   "cell_type": "markdown",
   "id": "ebf8e97e-4221-4ac7-8604-3c06a600ac03",
   "metadata": {},
   "source": [
    "# Random Forest Regressor"
   ]
  },
  {
   "cell_type": "code",
   "execution_count": 68,
   "id": "0b9e8d54-e515-4bc6-a8d7-cd0163e4bf5f",
   "metadata": {},
   "outputs": [
    {
     "data": {
      "text/plain": [
       "{'bootstrap': True,\n",
       " 'criterion': 'squared_error',\n",
       " 'max_depth': 6,\n",
       " 'max_features': 'auto',\n",
       " 'max_leaf_nodes': 23,\n",
       " 'n_estimators': 15}"
      ]
     },
     "execution_count": 68,
     "metadata": {},
     "output_type": "execute_result"
    }
   ],
   "source": [
    "param_dist = {'max_depth': [5,6,7,8,9,12,16,19,23,25,29],\n",
    "              'bootstrap': [True],\n",
    "              'max_features': ['auto', 'sqrt', 'log2', None],\n",
    "              'max_leaf_nodes':[3,5,7,9,13,17,19,23,27],\n",
    "              'n_estimators':[5,10,15,20,23,25,27],\n",
    "              'criterion': ['squared_error']\n",
    "             }\n",
    "search= sk.model_selection.GridSearchCV(rf,cv=10,param_grid=param_dist,n_jobs=1).fit(x_train,y_train)\n",
    "search.best_params_"
   ]
  },
  {
   "cell_type": "code",
   "execution_count": 153,
   "id": "9b7103fb-c4a0-46f5-880b-757a82a0a1cd",
   "metadata": {},
   "outputs": [
    {
     "name": "stdout",
     "output_type": "stream",
     "text": [
      "R-square value for train is 0.8890652263429779\n",
      "RMSE value for train is 0.04603696251159554\n",
      "************************************************************************************\n",
      "R-square value for test is 0.8415808370328255\n",
      "RMSE value for test is 0.06265727248655845\n"
     ]
    }
   ],
   "source": [
    "rf=RandomForestRegressor(criterion= 'squared_error',max_depth=6,min_samples_leaf=7,min_samples_split=9,max_leaf_nodes=33,n_estimators=15,max_features='auto',bootstrap=True,oob_score=True,warm_start=True).fit(x_train,y_train)\n",
    "y_train_pred=rf.predict(x_train)\n",
    "q=r2_score(y_train,y_train_pred)\n",
    "print(f'R-square value for train is {q}')\n",
    "print(f'RMSE value for train is {m.sqrt(mean_squared_error(y_train_pred,y_train))}')\n",
    "\n",
    "print('************************************************************************************')\n",
    "\n",
    "y_pred=rf.predict(x_test)\n",
    "q=r2_score(y_test,y_pred)\n",
    "print(f'R-square value for test is {q}')\n",
    "print(f'RMSE value for test is {m.sqrt(mean_squared_error(y_pred,y_test))}')"
   ]
  },
  {
   "cell_type": "markdown",
   "id": "8abc2db1-c000-48a9-be39-faa2f30110f4",
   "metadata": {},
   "source": [
    "# SVR Regessor "
   ]
  },
  {
   "cell_type": "code",
   "execution_count": 87,
   "id": "b76ab463-d392-412d-a628-04197cc6c05d",
   "metadata": {},
   "outputs": [
    {
     "name": "stdout",
     "output_type": "stream",
     "text": [
      "R-square value for train is 0.7992237842954255\n",
      "RMSE value for train is 0.06193397333065604\n",
      "************************************************************************************\n",
      "R-square value for test is 0.7351702878934274\n",
      "RMSE value for test is 0.0810123038406394\n"
     ]
    }
   ],
   "source": [
    "svr=SVR(kernel='rbf').fit(x_train,y_train)\n",
    "y_train_pred=svr.predict(x_train)\n",
    "q=r2_score(y_train,y_train_pred)\n",
    "print(f'R-square value for train is {q}')\n",
    "print(f'RMSE value for train is {m.sqrt(mean_squared_error(y_train_pred,y_train))}')\n",
    "\n",
    "print('************************************************************************************')\n",
    "\n",
    "y_pred=svr.predict(x_test)\n",
    "q=r2_score(y_test,y_pred)\n",
    "print(f'R-square value for test is {q}')\n",
    "print(f'RMSE value for test is {m.sqrt(mean_squared_error(y_pred,y_test))}')"
   ]
  },
  {
   "cell_type": "markdown",
   "id": "1891d539-b794-42a3-a13f-ba2201203bd7",
   "metadata": {},
   "source": [
    "# GradientBoostingRegressor"
   ]
  },
  {
   "cell_type": "code",
   "execution_count": 103,
   "id": "c0b69e71-627d-42c3-b2b4-d8167af30358",
   "metadata": {},
   "outputs": [
    {
     "name": "stdout",
     "output_type": "stream",
     "text": [
      "R-square value for train is 0.9997955320001781\n",
      "RMSE value for train is 0.001976448420107781\n",
      "************************************************************************************\n",
      "R-square value for test is 0.8286825014597802\n",
      "RMSE value for test is 0.065158111862454\n"
     ]
    }
   ],
   "source": [
    "gdb=GradientBoostingRegressor(min_samples_split=21,alpha=0.5,max_depth=15).fit(x_train,y_train)\n",
    "y_train_pred=gdb.predict(x_train)\n",
    "q=r2_score(y_train,y_train_pred)\n",
    "print(f'R-square value for train is {q}')\n",
    "print(f'RMSE value for train is {m.sqrt(mean_squared_error(y_train_pred,y_train))}')\n",
    "\n",
    "print('************************************************************************************')\n",
    "\n",
    "y_pred=gdb.predict(x_test)\n",
    "q=r2_score(y_test,y_pred)\n",
    "print(f'R-square value for test is {q}')\n",
    "print(f'RMSE value for test is {m.sqrt(mean_squared_error(y_pred,y_test))}')"
   ]
  },
  {
   "cell_type": "markdown",
   "id": "39bdeb56-67f9-49ff-916a-3197f0e0b12f",
   "metadata": {},
   "source": [
    "# ADA Boost Regressor"
   ]
  },
  {
   "cell_type": "code",
   "execution_count": 136,
   "id": "497ec71f-5a70-4830-9d91-7acc05d07684",
   "metadata": {},
   "outputs": [
    {
     "name": "stdout",
     "output_type": "stream",
     "text": [
      "R-square value for train is 0.8373018411395199\n",
      "RMSE value for train is 0.055752472199845485\n",
      "************************************************************************************\n",
      "R-square value for test is 0.832907107595767\n",
      "RMSE value for test is 0.0643497134123838\n"
     ]
    }
   ],
   "source": [
    "ada=AdaBoostRegressor(n_estimators=29,learning_rate=0.009).fit(x_train,y_train)\n",
    "y_train_pred=ada.predict(x_train)\n",
    "q=r2_score(y_train,y_train_pred)\n",
    "print(f'R-square value for train is {q}')\n",
    "print(f'RMSE value for train is {m.sqrt(mean_squared_error(y_train_pred,y_train))}')\n",
    "\n",
    "print('************************************************************************************')\n",
    "\n",
    "y_pred=ada.predict(x_test)\n",
    "q=r2_score(y_test,y_pred)\n",
    "print(f'R-square value for test is {q}')\n",
    "print(f'RMSE value for test is {m.sqrt(mean_squared_error(y_pred,y_test))}')"
   ]
  },
  {
   "cell_type": "markdown",
   "id": "65a5e48e-41b7-4050-ace8-35aa67e28e13",
   "metadata": {},
   "source": [
    "# xg boost"
   ]
  },
  {
   "cell_type": "code",
   "execution_count": 137,
   "id": "9fc107e7-9d0b-499f-b073-93420d5f7681",
   "metadata": {},
   "outputs": [
    {
     "name": "stdout",
     "output_type": "stream",
     "text": [
      "R-square value for train is 0.9999291850684028\n",
      "RMSE value for train is 0.0011631486758926328\n",
      "************************************************************************************\n",
      "R-square value for test is 0.8601186687912582\n",
      "RMSE value for test is 0.05887724864013126\n"
     ]
    }
   ],
   "source": [
    "xg=XGBRegressor().fit(x_train,y_train)\n",
    "y_train_pred=xg.predict(x_train)\n",
    "q=r2_score(y_train,y_train_pred)\n",
    "print(f'R-square value for train is {q}')\n",
    "print(f'RMSE value for train is {m.sqrt(mean_squared_error(y_train_pred,y_train))}')\n",
    "\n",
    "print('************************************************************************************')\n",
    "\n",
    "y_pred=xg.predict(x_test)\n",
    "q=r2_score(y_test,y_pred)\n",
    "print(f'R-square value for test is {q}')\n",
    "print(f'RMSE value for test is {m.sqrt(mean_squared_error(y_pred,y_test))}')"
   ]
  },
  {
   "cell_type": "markdown",
   "id": "a83ce3c1-7b72-4b57-8730-d62db88068c7",
   "metadata": {},
   "source": [
    "# Importing Voting regressor to calculate the mean of all the regressor model accuracy"
   ]
  },
  {
   "cell_type": "code",
   "execution_count": 138,
   "id": "53dd04cf-dac3-490e-9aaf-ecfac8115d70",
   "metadata": {},
   "outputs": [],
   "source": [
    "from sklearn.ensemble import VotingRegressor"
   ]
  },
  {
   "cell_type": "code",
   "execution_count": 151,
   "id": "e35a6795-b7f4-4822-b11b-77689ce8552e",
   "metadata": {},
   "outputs": [
    {
     "name": "stdout",
     "output_type": "stream",
     "text": [
      "R-square value for train is 0.9423410074414102\n",
      "RMSE value for train is 0.033189929935822746\n",
      "************************************************************************************\n",
      "R-square value for test is 0.8490204757900965\n",
      "RMSE value for test is 0.061168334395744046\n"
     ]
    }
   ],
   "source": [
    "vr=VotingRegressor([('XGB',xg),('ADA',ada),('GBR',gdb),('SVR',svr),('RF',rf),('DT',dt)],weights=[3,3,1,1,3,1]).fit(x_train,y_train)\n",
    "y_train_pred=vr.predict(x_train)\n",
    "q=r2_score(y_train,y_train_pred)\n",
    "print(f'R-square value for train is {q}')\n",
    "print(f'RMSE value for train is {m.sqrt(mean_squared_error(y_train_pred,y_train))}')\n",
    "\n",
    "print('************************************************************************************')\n",
    "\n",
    "y_pred=vr.predict(x_test)\n",
    "q=r2_score(y_test,y_pred)\n",
    "print(f'R-square value for test is {q}')\n",
    "print(f'RMSE value for test is {m.sqrt(mean_squared_error(y_pred,y_test))}')"
   ]
  },
  {
   "cell_type": "code",
   "execution_count": null,
   "id": "0df75efc-812e-46d4-8f8a-b6710ff3bb08",
   "metadata": {},
   "outputs": [],
   "source": []
  }
 ],
 "metadata": {
  "kernelspec": {
   "display_name": "Python 3 (ipykernel)",
   "language": "python",
   "name": "python3"
  },
  "language_info": {
   "codemirror_mode": {
    "name": "ipython",
    "version": 3
   },
   "file_extension": ".py",
   "mimetype": "text/x-python",
   "name": "python",
   "nbconvert_exporter": "python",
   "pygments_lexer": "ipython3",
   "version": "3.9.13"
  }
 },
 "nbformat": 4,
 "nbformat_minor": 5
}
