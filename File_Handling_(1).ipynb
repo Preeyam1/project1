{
  "cells": [
    {
      "cell_type": "markdown",
      "metadata": {
        "id": "view-in-github",
        "colab_type": "text"
      },
      "source": [
        "<a href=\"https://colab.research.google.com/github/Preeyam1/project1/blob/master/File_Handling_(1).ipynb\" target=\"_parent\"><img src=\"https://colab.research.google.com/assets/colab-badge.svg\" alt=\"Open In Colab\"/></a>"
      ]
    },
    {
      "cell_type": "code",
      "execution_count": null,
      "id": "7b0ce947",
      "metadata": {
        "id": "7b0ce947",
        "outputId": "369d0bb7-214d-4a59-9c98-4571188898e5"
      },
      "outputs": [
        {
          "name": "stdout",
          "output_type": "stream",
          "text": [
            "A solitary leaf falls to the ground,\n",
            "Its journey from the tree is now unwound,\n",
            "The wind, the rain, the sun, the earth,\n",
            "All play a part in this leaf's rebirth.\n",
            "\n",
            "It joins a carpet of orange and brown,\n",
            "As the trees shed their leaves all around,\n",
            "A symbol of change and letting go,\n",
            "Of seasons past and what's to follow.\n",
            "\n",
            "So let us learn from nature's way,\n",
            "To shed what's no longer needed each day,\n",
            "To make space for growth and renewal,\n",
            "And embrace life's journey, ever so beautiful.\n",
            "\n",
            "\n",
            "\n",
            "\n"
          ]
        }
      ],
      "source": [
        "a=open('poem.txt','rt')\n",
        "print(a.read())\n",
        "a.close()\n",
        "\n"
      ]
    },
    {
      "cell_type": "code",
      "execution_count": null,
      "id": "c8e16b08",
      "metadata": {
        "id": "c8e16b08",
        "outputId": "6917287d-627c-4b58-dc75-7f697dcd5a50"
      },
      "outputs": [
        {
          "name": "stdout",
          "output_type": "stream",
          "text": [
            "2\n"
          ]
        }
      ],
      "source": [
        "count=0\n",
        "with open('story.txt', 'r+') as s:\n",
        "    for i in s:\n",
        "        if not i.startswith('T'):\n",
        "            count+=1\n",
        "print(count)\n",
        "        \n",
        "        \n",
        "    \n"
      ]
    },
    {
      "cell_type": "code",
      "execution_count": null,
      "id": "4ec30e1b",
      "metadata": {
        "id": "4ec30e1b",
        "outputId": "c22388ea-8717-4d26-ea70-99edc2391b0c"
      },
      "outputs": [
        {
          "name": "stdout",
          "output_type": "stream",
          "text": [
            "110\n"
          ]
        }
      ],
      "source": [
        "def totalwrd(filename):\n",
        "    with open(filename,'r+') as f:\n",
        "        a=f.read()\n",
        "        b=a.split()\n",
        "        print(len(b))\n",
        "totalwrd('story.txt')"
      ]
    },
    {
      "cell_type": "code",
      "execution_count": null,
      "id": "8da6520f",
      "metadata": {
        "id": "8da6520f",
        "outputId": "9ea9d899-0ca3-4edb-fde8-eb8807a7b092"
      },
      "outputs": [
        {
          "data": {
            "text/plain": [
              "5"
            ]
          },
          "execution_count": 111,
          "metadata": {},
          "output_type": "execute_result"
        }
      ],
      "source": [
        "def read_line(filename):\n",
        "    count=0\n",
        "    with open(filename, 'r+') as file:\n",
        "        a=file.read()\n",
        "        b=a.split()\n",
        "        c= 'The','the'\n",
        "        for i in b:\n",
        "            if i in c:\n",
        "                count+=1\n",
        "    return count\n",
        "\n",
        "read_line('notes')\n",
        "        "
      ]
    },
    {
      "cell_type": "code",
      "execution_count": null,
      "id": "fe1470bd",
      "metadata": {
        "id": "fe1470bd",
        "outputId": "733cb9f7-70c1-44ed-ffe5-ef1489b7ef63"
      },
      "outputs": [
        {
          "data": {
            "text/plain": [
              "52"
            ]
          },
          "execution_count": 113,
          "metadata": {},
          "output_type": "execute_result"
        }
      ],
      "source": [
        "def dis_wrd(filename):\n",
        "    count=0\n",
        "    with open(filename,'r+') as file:\n",
        "        a=file.read()\n",
        "        b=a.split()\n",
        "        for i in b:\n",
        "            if len(i)< 4:\n",
        "                count+=1\n",
        "    return count\n",
        "dis_wrd('story.txt')\n",
        "\n",
        "                "
      ]
    },
    {
      "cell_type": "code",
      "execution_count": null,
      "id": "eb3fd5ae",
      "metadata": {
        "id": "eb3fd5ae",
        "outputId": "12d01d1a-46a3-4b06-c500-d5626a4d57f5"
      },
      "outputs": [
        {
          "data": {
            "text/plain": [
              "5"
            ]
          },
          "execution_count": 114,
          "metadata": {},
          "output_type": "execute_result"
        }
      ],
      "source": [
        "def read_line(filename):\n",
        "    count=0\n",
        "    with open(filename, 'r+') as file:\n",
        "        a=file.read()\n",
        "        b=a.split()\n",
        "        c= 'This','These','this','these'\n",
        "        for i in b:\n",
        "            if i in c:\n",
        "                count+=1\n",
        "    return count\n",
        "\n",
        "read_line('notes')\n",
        "        "
      ]
    },
    {
      "cell_type": "code",
      "execution_count": null,
      "id": "dec2940d",
      "metadata": {
        "id": "dec2940d",
        "outputId": "59f7a5f3-bcbe-4b25-ac07-f85f750cf51f"
      },
      "outputs": [
        {
          "data": {
            "text/plain": [
              "12"
            ]
          },
          "execution_count": 118,
          "metadata": {},
          "output_type": "execute_result"
        }
      ],
      "source": [
        "def count_wrd(filename):\n",
        "    count=0\n",
        "    with open(filename, 'r+') as file:\n",
        "        a=file.read()\n",
        "        b=a.split()\n",
        "        for i in b:\n",
        "            if i.endswith('e'):\n",
        "                count+=1\n",
        "    return (count)\n",
        "count_wrd('notes')\n",
        "        "
      ]
    },
    {
      "cell_type": "code",
      "execution_count": null,
      "id": "38bee82c",
      "metadata": {
        "id": "38bee82c",
        "outputId": "2eb52168-323c-43ed-8b6c-ebe20ebd4f34"
      },
      "outputs": [
        {
          "data": {
            "text/plain": [
              "9"
            ]
          },
          "execution_count": 119,
          "metadata": {},
          "output_type": "execute_result"
        }
      ],
      "source": [
        "def count_wrd(filename):\n",
        "    count=0\n",
        "    with open(filename, 'r+') as file:\n",
        "        a=file.read()\n",
        "        for i in a:\n",
        "            if i.isupper():\n",
        "                count+=1\n",
        "    return (count)\n",
        "count_wrd('notes')\n",
        "        "
      ]
    },
    {
      "cell_type": "code",
      "execution_count": null,
      "id": "c54952d9",
      "metadata": {
        "id": "c54952d9",
        "outputId": "7e75e253-2b9b-4c3b-a309-ef1c86519de5"
      },
      "outputs": [
        {
          "data": {
            "text/plain": [
              "'T#h#e#s#e# #a#r#e# #t#h#e# #k#e#y#s# #t#o# #m#y# #c#a#r#,# #w#h#i#c#h# #I# #l#e#f#t# #o#n# #t#h#e# #k#i#t#c#h#e#n# #c#o#u#n#t#e#r#.#\\n#T#h#i#s# #b#o#o#k# #i#s# #m#u#c#h# #b#e#t#t#e#r# #t#h#a#n# #t#h#a#t# #o#n#e#,# #I# #h#i#g#h#l#y# #r#e#c#o#m#m#e#n#d# #i#t#.#\\n#T#h#e#s#e# #s#h#o#e#s# #a#r#e# #t#o#o# #t#i#g#h#t#,# #I# #n#e#e#d# #t#o# #g#e#t# #a# #l#a#r#g#e#r# #s#i#z#e#.#\\n#T#h#i#s# #c#o#f#f#e#e# #t#a#s#t#e#s# #a#m#a#z#i#n#g#,# #d#i#d# #y#o#u# #u#s#e# #a# #s#p#e#c#i#a#l# #b#l#e#n#d#?#\\n#T#h#e#s#e# #c#o#o#k#i#e#s# #a#r#e# #d#e#l#i#c#i#o#u#s#,# #c#a#n# #I# #h#a#v#e# #t#h#e# #r#e#c#i#p#e#?'"
            ]
          },
          "execution_count": 123,
          "metadata": {},
          "output_type": "execute_result"
        }
      ],
      "source": [
        "def count_wrd(filename):\n",
        "    with open(filename, 'r+') as file:\n",
        "        a=file.read()\n",
        "        c='#'.join(a)\n",
        "    return (c)\n",
        "count_wrd('notes')\n",
        "        "
      ]
    },
    {
      "cell_type": "code",
      "execution_count": null,
      "id": "89b0281b",
      "metadata": {
        "id": "89b0281b",
        "outputId": "5f7c1ae9-91ec-4817-c69c-e0dec7605875"
      },
      "outputs": [
        {
          "data": {
            "text/plain": [
              "'These are the keys to my car, which I left on the kitchen counter.\\nThis book is much better than that one, I highly recommend it.\\nThese shoes are too tight, I need to get a larger size.\\nThis coffee tastes amazing, did you use a special blend?\\nThese cookies are delicious, can I have the recipe?'"
            ]
          },
          "execution_count": 139,
          "metadata": {},
          "output_type": "execute_result"
        }
      ],
      "source": [
        "def count_wrd(filename):\n",
        "    count=0\n",
        "    with open(filename, 'r+') as file:\n",
        "        a=file.read()\n",
        "        c=a.replace('j','i')   \n",
        "    return (c)\n",
        "count_wrd('notes')\n",
        "        "
      ]
    },
    {
      "cell_type": "code",
      "execution_count": null,
      "id": "6b3ba59b",
      "metadata": {
        "id": "6b3ba59b",
        "outputId": "131d2cb9-0f40-42a7-a1a5-e8e6295e2ae5"
      },
      "outputs": [
        {
          "name": "stdout",
          "output_type": "stream",
          "text": [
            "Help on method_descriptor:\n",
            "\n",
            "count(...)\n",
            "    S.count(sub[, start[, end]]) -> int\n",
            "    \n",
            "    Return the number of non-overlapping occurrences of substring sub in\n",
            "    string S[start:end].  Optional arguments start and end are\n",
            "    interpreted as in slice notation.\n",
            "\n"
          ]
        }
      ],
      "source": [
        "help(str.count)"
      ]
    },
    {
      "cell_type": "code",
      "execution_count": null,
      "id": "8d7846ec",
      "metadata": {
        "id": "8d7846ec",
        "outputId": "31acd2db-7409-4c0e-bf6a-fa14eb5a1fea"
      },
      "outputs": [
        {
          "data": {
            "text/plain": [
              "(2, 1)"
            ]
          },
          "execution_count": 153,
          "metadata": {},
          "output_type": "execute_result"
        }
      ],
      "source": [
        "def count_wrd(filename):\n",
        "    with open(filename, 'rt') as file:\n",
        "        a=file.read()\n",
        "        c=a.count('a')\n",
        "        d=a.count('m')\n",
        "        \n",
        "    return c,d\n",
        "count_wrd('notes')\n",
        "        "
      ]
    },
    {
      "cell_type": "code",
      "execution_count": null,
      "id": "b46bfb36",
      "metadata": {
        "id": "b46bfb36"
      },
      "outputs": [],
      "source": [
        "def count_rec(filename):\n",
        "    while open (filename,'r+b')as f:\n",
        "        a=f.read()\n",
        "        "
      ]
    }
  ],
  "metadata": {
    "kernelspec": {
      "display_name": "Python 3 (ipykernel)",
      "language": "python",
      "name": "python3"
    },
    "language_info": {
      "codemirror_mode": {
        "name": "ipython",
        "version": 3
      },
      "file_extension": ".py",
      "mimetype": "text/x-python",
      "name": "python",
      "nbconvert_exporter": "python",
      "pygments_lexer": "ipython3",
      "version": "3.9.13"
    },
    "colab": {
      "provenance": [],
      "include_colab_link": true
    }
  },
  "nbformat": 4,
  "nbformat_minor": 5
}