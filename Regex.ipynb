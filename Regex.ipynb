{
  "cells": [
    {
      "cell_type": "markdown",
      "metadata": {
        "id": "view-in-github",
        "colab_type": "text"
      },
      "source": [
        "<a href=\"https://colab.research.google.com/github/Preeyam1/project1/blob/master/Regex.ipynb\" target=\"_parent\"><img src=\"https://colab.research.google.com/assets/colab-badge.svg\" alt=\"Open In Colab\"/></a>"
      ]
    },
    {
      "cell_type": "code",
      "execution_count": null,
      "id": "eb3ec509",
      "metadata": {
        "id": "eb3ec509",
        "outputId": "e4d3f0d1-4a6a-4baa-89ed-e54bf91b5de6"
      },
      "outputs": [
        {
          "name": "stdout",
          "output_type": "stream",
          "text": [
            "<re.Match object; span=(0, 3), match='cat'>\n"
          ]
        }
      ],
      "source": [
        "import re\n",
        "str_1 = 'cat mat bat rat'\n",
        "str_2=re.search(r'[a-z]{3}',str_1)\n",
        "print(str(str_2))"
      ]
    },
    {
      "cell_type": "code",
      "execution_count": null,
      "id": "ab5006c6",
      "metadata": {
        "id": "ab5006c6",
        "outputId": "1427eb4e-a451-478c-a3d1-74c8a749f4e9"
      },
      "outputs": [
        {
          "name": "stdout",
          "output_type": "stream",
          "text": [
            "<re.Match object; span=(12, 15), match='rat'>\n"
          ]
        }
      ],
      "source": [
        "import re\n",
        "str_1 = 'cat mat bat rat'\n",
        "str_2=re.search(r'rat',str_1)\n",
        "print(str(str_2))\n"
      ]
    },
    {
      "cell_type": "code",
      "execution_count": null,
      "id": "514ee8dc",
      "metadata": {
        "id": "514ee8dc",
        "outputId": "cf797a48-37ae-41e6-9688-437d1086be27"
      },
      "outputs": [
        {
          "name": "stdout",
          "output_type": "stream",
          "text": [
            "None\n"
          ]
        }
      ],
      "source": [
        "import re\n",
        "str_1 = 'cat mat bat rat'\n",
        "str_2=re.search(r'(matman)',str_1)\n",
        "print(str(str_2))\n"
      ]
    },
    {
      "cell_type": "code",
      "execution_count": null,
      "id": "4a571ab2",
      "metadata": {
        "id": "4a571ab2",
        "outputId": "dcdbd1ed-0009-4082-c2e1-9aff43162fc7"
      },
      "outputs": [
        {
          "name": "stdout",
          "output_type": "stream",
          "text": [
            "['Python', 's', 'Programming', 'is', 'very', 'easy', 'to', 'learn']\n"
          ]
        }
      ],
      "source": [
        "import re\n",
        "a=\"Python's Programming: is very easy to learn\"\n",
        "b=re.findall(r'\\w+\\b',a)\n",
        "print(b)"
      ]
    },
    {
      "cell_type": "code",
      "execution_count": null,
      "id": "0d0ddf9a",
      "metadata": {
        "id": "0d0ddf9a",
        "outputId": "3dbd1c2c-abed-482d-8214-b2353fcfaaa7"
      },
      "outputs": [
        {
          "name": "stdout",
          "output_type": "stream",
          "text": [
            "Python s Programming is very easy to learn\n"
          ]
        }
      ],
      "source": [
        "import re\n",
        "a=\"Python's Programming: is very easy to learn\"\n",
        "b=re.sub(r'\\W+\\b',' ',a)\n",
        "print(b)"
      ]
    },
    {
      "cell_type": "code",
      "execution_count": null,
      "id": "f95ff103",
      "metadata": {
        "id": "f95ff103",
        "outputId": "fb51c112-13f7-43a0-b914-e5a792e456c6"
      },
      "outputs": [
        {
          "name": "stdout",
          "output_type": "stream",
          "text": [
            "Help on function sub in module re:\n",
            "\n",
            "sub(pattern, repl, string, count=0, flags=0)\n",
            "    Return the string obtained by replacing the leftmost\n",
            "    non-overlapping occurrences of the pattern in string by the\n",
            "    replacement repl.  repl can be either a string or a callable;\n",
            "    if a string, backslash escapes in it are processed.  If it is\n",
            "    a callable, it's passed the Match object and must return\n",
            "    a replacement string to be used.\n",
            "\n"
          ]
        }
      ],
      "source": [
        "help(re.sub)"
      ]
    },
    {
      "cell_type": "code",
      "execution_count": null,
      "id": "0aea68fd",
      "metadata": {
        "id": "0aea68fd",
        "outputId": "f922b29e-7923-4baa-ad67-f2d1fd49fc01"
      },
      "outputs": [
        {
          "name": "stdout",
          "output_type": "stream",
          "text": [
            "['peter', 'per', 'picked', 'peck', 'pickled', 'peppers']\n"
          ]
        }
      ],
      "source": [
        "import re\n",
        "a=\"peter giper picked a peck of pickled peppers\"\n",
        "b=re.findall(r'p\\w+\\b',a)\n",
        "print(b)"
      ]
    },
    {
      "cell_type": "code",
      "execution_count": null,
      "id": "048f1eeb",
      "metadata": {
        "id": "048f1eeb",
        "outputId": "d0a9b84a-c7f8-4dec-afa4-7049aa123535"
      },
      "outputs": [
        {
          "name": "stdout",
          "output_type": "stream",
          "text": [
            "['peter', 'picked', 'peck', 'pickled', 'peppers']\n"
          ]
        }
      ],
      "source": [
        "import re\n",
        "a=\"peter giper picked a peck of pickled peppers\"\n",
        "b=re.findall(r'\\bp\\w+\\b',a)\n",
        "print(b)"
      ]
    },
    {
      "cell_type": "code",
      "execution_count": null,
      "id": "d18bcf1b",
      "metadata": {
        "id": "d18bcf1b",
        "outputId": "c2b97fc7-5aae-4c5f-e4c2-126da594f243"
      },
      "outputs": [
        {
          "name": "stdout",
          "output_type": "stream",
          "text": [
            "['8th', '11th']\n"
          ]
        }
      ],
      "source": [
        "import re\n",
        "a='The election in delhi will be held on 8th and result for the same will be declared on 11th'\n",
        "b=re.findall(r'[0-9]+\\w+\\b',a)\n",
        "print(b)"
      ]
    },
    {
      "cell_type": "code",
      "execution_count": null,
      "id": "dad54bfe",
      "metadata": {
        "id": "dad54bfe",
        "outputId": "650f6e20-9ff6-4752-d36c-c5a1b7682459"
      },
      "outputs": [
        {
          "name": "stdout",
          "output_type": "stream",
          "text": [
            "['peter', 'giper']\n"
          ]
        }
      ],
      "source": [
        "import re\n",
        "a=\"peter giper picked a peck of pickled peppers\"\n",
        "b=re.findall(r'\\b\\w{5}\\b',a)\n",
        "print(b)"
      ]
    },
    {
      "cell_type": "code",
      "execution_count": null,
      "id": "f1163a56",
      "metadata": {
        "id": "f1163a56",
        "outputId": "710b4463-25dc-4226-f25f-047b84bf231f"
      },
      "outputs": [
        {
          "name": "stdout",
          "output_type": "stream",
          "text": [
            "['Retrieving', 'words', 'having', 'least', 'characters']\n"
          ]
        }
      ],
      "source": [
        "import re\n",
        "a=\"Retrieving all words having at least 4 characters\"\n",
        "b=re.findall(r'\\b\\w{4,}\\b',a)\n",
        "print(b)"
      ]
    },
    {
      "cell_type": "code",
      "execution_count": null,
      "id": "e477343e",
      "metadata": {
        "id": "e477343e",
        "outputId": "b68ffe90-a158-4ee0-9103-572bb15d8dae"
      },
      "outputs": [
        {
          "name": "stdout",
          "output_type": "stream",
          "text": [
            "['all', 'words', 'least']\n"
          ]
        }
      ],
      "source": [
        "import re\n",
        "a=\"Retrieving all words having at least 4 characters\"\n",
        "b=re.findall(r'\\b\\w{3,5}\\b',a)\n",
        "print(b)"
      ]
    },
    {
      "cell_type": "code",
      "execution_count": null,
      "id": "1e36ef92",
      "metadata": {
        "id": "1e36ef92",
        "outputId": "bbc0023b-9a2d-471a-eae2-a1634700e3e0"
      },
      "outputs": [
        {
          "name": "stdout",
          "output_type": "stream",
          "text": [
            "['8', '11']\n"
          ]
        }
      ],
      "source": [
        "import re\n",
        "a='The election in delhi will be held on 8 and result for the same will be declared on 11'\n",
        "b=re.findall(r'\\d{1,2}',a)\n",
        "print(b)"
      ]
    },
    {
      "cell_type": "code",
      "execution_count": null,
      "id": "42857371",
      "metadata": {
        "id": "42857371",
        "outputId": "59f22bd1-b7eb-459d-83b1-77a6745efb67"
      },
      "outputs": [
        {
          "name": "stdout",
          "output_type": "stream",
          "text": [
            "['characters']\n"
          ]
        }
      ],
      "source": [
        "import re\n",
        "a=\"Retrieving all words having at least 4 characters\"\n",
        "b=re.findall(r'\\w+$',a)\n",
        "print(b)"
      ]
    },
    {
      "cell_type": "code",
      "execution_count": null,
      "id": "0527cf39",
      "metadata": {
        "id": "0527cf39",
        "outputId": "52942db5-e683-4c9f-a5f5-176d5c50afcb"
      },
      "outputs": [
        {
          "name": "stdout",
          "output_type": "stream",
          "text": [
            "['1234567890']\n"
          ]
        }
      ],
      "source": [
        "import re\n",
        "a=\"Learnbay : 1234567890\"\n",
        "b=re.findall(r'\\w+$',a)\n",
        "print(b)"
      ]
    },
    {
      "cell_type": "code",
      "execution_count": null,
      "id": "7cb7c150",
      "metadata": {
        "id": "7cb7c150",
        "outputId": "cafe3dca-21bf-4cd7-a2e5-46d98bf60b2a"
      },
      "outputs": [
        {
          "name": "stdout",
          "output_type": "stream",
          "text": [
            "['Learnbay']\n"
          ]
        }
      ],
      "source": [
        "import re\n",
        "a=\"Learnbay : 1234567890\"\n",
        "b=re.findall(r'L\\w+\\b',a)\n",
        "print(b)"
      ]
    },
    {
      "cell_type": "code",
      "execution_count": null,
      "id": "7aa7f58e",
      "metadata": {
        "id": "7aa7f58e",
        "outputId": "21e8bc67-a936-4db0-9d6d-2373fb6f8e5c"
      },
      "outputs": [
        {
          "name": "stdout",
          "output_type": "stream",
          "text": [
            "['anil', 'akhil', 'anant', 'ankur']\n"
          ]
        }
      ],
      "source": [
        "import re\n",
        "a='anil akhil anant abhi arun arati arundhati abhijit ankur'\n",
        "b=re.findall(r'a+[n|k]\\w+\\b',a)\n",
        "print(b)"
      ]
    },
    {
      "cell_type": "code",
      "execution_count": null,
      "id": "8451cf8e",
      "metadata": {
        "id": "8451cf8e"
      },
      "outputs": [],
      "source": []
    }
  ],
  "metadata": {
    "kernelspec": {
      "display_name": "Python 3 (ipykernel)",
      "language": "python",
      "name": "python3"
    },
    "language_info": {
      "codemirror_mode": {
        "name": "ipython",
        "version": 3
      },
      "file_extension": ".py",
      "mimetype": "text/x-python",
      "name": "python",
      "nbconvert_exporter": "python",
      "pygments_lexer": "ipython3",
      "version": "3.9.13"
    },
    "colab": {
      "provenance": [],
      "include_colab_link": true
    }
  },
  "nbformat": 4,
  "nbformat_minor": 5
}