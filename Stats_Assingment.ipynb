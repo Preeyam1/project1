{
  "cells": [
    {
      "cell_type": "markdown",
      "metadata": {
        "id": "view-in-github",
        "colab_type": "text"
      },
      "source": [
        "<a href=\"https://colab.research.google.com/github/Preeyam1/project1/blob/master/Stats_Assingment.ipynb\" target=\"_parent\"><img src=\"https://colab.research.google.com/assets/colab-badge.svg\" alt=\"Open In Colab\"/></a>"
      ]
    },
    {
      "cell_type": "code",
      "execution_count": null,
      "id": "d37d078e",
      "metadata": {
        "id": "d37d078e"
      },
      "outputs": [],
      "source": [
        "import pandas as pd\n",
        "import math"
      ]
    },
    {
      "cell_type": "code",
      "execution_count": null,
      "id": "d200f69d",
      "metadata": {
        "id": "d200f69d"
      },
      "outputs": [],
      "source": [
        "'''Write a Python Program for the calculations of Point Estimates and Interval Estimates.\n",
        "\n",
        "Def estimates (csv_file, sample_mean=0, Sample_size=0, Std_dev=0, csv_flag = 0):\n",
        "—----------------------------\n",
        "—----------------------------\n",
        "If (csv_flag = 1):\n",
        "Sample_mean = pd.mean(csv_file(column))\n",
        "Std_dev = pd.std()\n",
        "Sample_size = pd.count()\n",
        "Calculation for PE\n",
        "Calculation of IE\n",
        "Else :\n",
        "—----------------------------\n",
        "Automatically decided for Z/T Distribution\n",
        "Define a dictionary for alpha values\n",
        "Z_dict = {0.05 : 1.64, 0.025 : 1.96}\n",
        "T_dict = {}\n",
        "Calculation for PE\n",
        "Calculation of IE\n",
        "—---------------------------\n",
        "—---------------------------\n",
        "Return values\n",
        "\n",
        "Output : Input the values\n",
        "estimates (file, 1000, 50, 55, csv-flag = 1)\n",
        "The data follows the Z-distribution with\n",
        "PE is 55.45\n",
        "IE is 52 to 61'''\n"
      ]
    },
    {
      "cell_type": "code",
      "execution_count": null,
      "id": "b0078e7e",
      "metadata": {
        "id": "b0078e7e",
        "outputId": "fb9570c8-226d-4f11-a840-c17b0e12018a"
      },
      "outputs": [
        {
          "name": "stdout",
          "output_type": "stream",
          "text": [
            "The data follows the t-distribution with\n",
            "PE is 100.00\n",
            "IE is 92.01 to 107.99\n"
          ]
        }
      ],
      "source": [
        "import pandas as pd\n",
        "import math\n",
        "\n",
        "def estimate(csv_file, sample_mean=0, sample_size=0, std_dev=0, csv_flag=0):\n",
        "    z = {0.05: 1.64, 0.025: 1.96}\n",
        "    t = {}\n",
        "    dist = 'z' if sample_size >= 30 else 't'\n",
        "    \n",
        "    if csv_flag == 1:\n",
        "        csv_file = pd.read_csv(csv_file)\n",
        "        sample_mean = csv_file.mean()\n",
        "        sample_size = csv_file.count()[0]\n",
        "        std_dev = csv_file.std()\n",
        "        PE = sample_mean\n",
        "        if sample_size>=30:\n",
        "            dist='z'\n",
        "            low_IE = PE - z[0.025] * (std_dev / math.sqrt(sample_size))\n",
        "            upp_IE = PE + z[0.025] * (std_dev / math.sqrt(sample_size))\n",
        "        elif sample_size<30:\n",
        "            dist='t'\n",
        "            df = sample_size - 1\n",
        "            t_val = 2.064\n",
        "            low_IE = PE - t_val * (std_dev / math.sqrt(sample_size))\n",
        "            upp_IE = PE + t_val * (std_dev / math.sqrt(sample_size))\n",
        "        print(f\"The data follows the {dist}-distribution with\\nPE is {PE.iloc[0]:.2f}\\nIE is {IE[0][0]:.2f} to {IE[1][0]:.2f}\")\n",
        "    \n",
        "    else:\n",
        "        if csv_flag == 0:\n",
        "            PE = sample_mean\n",
        "            if sample_size>=30:\n",
        "                dist='z'\n",
        "                low_IE = PE - z[0.025] * (std_dev / math.sqrt(sample_size))\n",
        "                upp_IE = PE + z[0.025] * (std_dev / math.sqrt(sample_size))\n",
        "\n",
        "            elif sample_size<30:\n",
        "                dist='t'\n",
        "                df = sample_size - 1\n",
        "                t_val = 2.064\n",
        "                low_IE = PE - t_val * (std_dev / math.sqrt(sample_size))\n",
        "                upp_IE = PE + t_val * (std_dev / math.sqrt(sample_size))\n",
        "\n",
        "\n",
        "        print(f\"The data follows the {dist}-distribution with\\nPE is {PE:.2f}\\nIE is {low_IE:.2f} to {upp_IE:.2f}\")\n",
        "\n",
        "   \n",
        "       \n",
        "\n",
        "estimate('estimate.csv', sample_mean=100, sample_size=15, std_dev=15)\n"
      ]
    },
    {
      "cell_type": "code",
      "execution_count": null,
      "id": "67d489c8",
      "metadata": {
        "id": "67d489c8",
        "outputId": "53e83b25-739d-49c2-fe3b-bafa1d71cffd"
      },
      "outputs": [
        {
          "name": "stdout",
          "output_type": "stream",
          "text": [
            "7.424302350869964\n",
            "Null-Hypothesis Rejected\n"
          ]
        }
      ],
      "source": [
        "def estimate(csv_file,pop_mean,sample_mean=0, sample_size=0, std_dev=0, csv_flag=0):\n",
        "    if csv_flag == 1:\n",
        "        csv_file = pd.read_csv(csv_file)\n",
        "        sample_mean = csv_file.mean()[0]\n",
        "        sample_size = csv_file.count()[0]\n",
        "        std_dev = csv_file.std()[0]\n",
        "        z_stats=(sample_mean-pop_mean)/(std_dev/math.sqrt(sample_size))\n",
        "        print(z_stats)\n",
        "       \n",
        "    else:\n",
        "        if csv_flag == 0:\n",
        "            z_stats=(sample_mean-pop_mean)/(std_dev/math.sqrt(sample_size))\n",
        "            print(z_stats)\n",
        "    z_val={0.05:1.64,0.025:1.96}\n",
        "    if z_stats>=(z_val[0.05] or z_val[0.025]):\n",
        "        print('Null-Hypothesis Rejected')\n",
        "    else:\n",
        "        print('Null-Hypothesis Accepted')\n",
        "        \n",
        "            \n",
        "    \n",
        "estimate('estimate.csv',260, csv_flag=1)\n",
        "\n",
        "    \n",
        "    "
      ]
    }
  ],
  "metadata": {
    "kernelspec": {
      "display_name": "Python 3 (ipykernel)",
      "language": "python",
      "name": "python3"
    },
    "language_info": {
      "codemirror_mode": {
        "name": "ipython",
        "version": 3
      },
      "file_extension": ".py",
      "mimetype": "text/x-python",
      "name": "python",
      "nbconvert_exporter": "python",
      "pygments_lexer": "ipython3",
      "version": "3.9.13"
    },
    "colab": {
      "provenance": [],
      "include_colab_link": true
    }
  },
  "nbformat": 4,
  "nbformat_minor": 5
}